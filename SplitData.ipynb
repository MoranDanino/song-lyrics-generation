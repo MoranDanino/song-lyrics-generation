{
  "nbformat": 4,
  "nbformat_minor": 0,
  "metadata": {
    "colab": {
      "provenance": []
    },
    "kernelspec": {
      "name": "python3",
      "display_name": "Python 3"
    },
    "language_info": {
      "name": "python"
    }
  },
  "cells": [
    {
      "cell_type": "markdown",
      "source": [
        "### Split the dataset into 40 chunks:\n",
        "\n"
      ],
      "metadata": {
        "id": "YU3md7EEvNoQ"
      }
    },
    {
      "cell_type": "code",
      "execution_count": null,
      "metadata": {
        "id": "0reBzO5AYEQM"
      },
      "outputs": [],
      "source": [
        "from google.colab import drive\n",
        "import pandas as pd\n",
        "import numpy as np"
      ]
    },
    {
      "cell_type": "code",
      "source": [
        "# mount drive\n",
        "drive.mount('/content/drive')\n",
        "\n",
        "# define path to folder - CHANGE TO WHICHEVER DIRECTORY YOU WANT\n",
        "path_folder = \"/content/drive/MyDrive/Deep_Learning_project\"\n",
        "\n",
        "large_file_path = path_folder+f'/ds_clean.csv'"
      ],
      "metadata": {
        "colab": {
          "base_uri": "https://localhost:8080/"
        },
        "id": "_pBNaC2vYIwE",
        "outputId": "b49d47ed-51f1-4991-cce0-02bfe85de430"
      },
      "execution_count": null,
      "outputs": [
        {
          "output_type": "stream",
          "name": "stdout",
          "text": [
            "Drive already mounted at /content/drive; to attempt to forcibly remount, call drive.mount(\"/content/drive\", force_remount=True).\n"
          ]
        }
      ]
    },
    {
      "cell_type": "code",
      "source": [
        "num_chunks = 40\n",
        "\n",
        "large_df = pd.read_csv(large_file_path)\n",
        "df = large_df.sample(frac=1, random_state=42).reset_index(drop=True) # shuffling\n",
        "\n",
        "chunks = []\n",
        "\n",
        "pop_songs = df[df['class'] == 1] # separate pop and rap songs\n",
        "rap_songs = df[df['class'] == 0]\n",
        "\n",
        "total_songs_per_chunk = len(df) // num_chunks\n",
        "rap_songs_per_chunk = len(rap_songs) // num_chunks"
      ],
      "metadata": {
        "id": "j1B7xXAKYTWI"
      },
      "execution_count": null,
      "outputs": []
    },
    {
      "cell_type": "code",
      "source": [
        "# create chunks:\n",
        "\n",
        "for i in range(num_chunks):\n",
        "    start_rap = i * rap_songs_per_chunk\n",
        "    end_rap = start_rap + rap_songs_per_chunk\n",
        "    rap_chunk = rap_songs.iloc[start_rap:end_rap]\n",
        "\n",
        "    # calculate the number of pop songs needed to fill the rest of the chunk\n",
        "    pop_songs_per_chunk = total_songs_per_chunk - rap_songs_per_chunk\n",
        "    start_pop = i * pop_songs_per_chunk\n",
        "    end_pop = start_pop + pop_songs_per_chunk if i < num_chunks - 1 else len(pop_songs)\n",
        "    pop_chunk = pop_songs.iloc[start_pop:end_pop]\n",
        "\n",
        "    # combine pop and rap chunks and shuffle\n",
        "    chunk = pd.concat([pop_chunk, rap_chunk])\n",
        "    chunk = chunk.sample(frac=1).reset_index(drop=True)\n",
        "    chunks.append(chunk)\n",
        "\n",
        "    # save the chunk to a file and print the details\n",
        "    chunk.to_csv(f\"{path_folder}/chunks/chunk_{i+1}.csv\", index=False)\n",
        "    print(f\"Chunk {i+1} created with {len(pop_chunk)} pop songs and {len(rap_chunk)} rap songs.\")\n"
      ],
      "metadata": {
        "colab": {
          "base_uri": "https://localhost:8080/"
        },
        "id": "AFqQUhVthHi4",
        "outputId": "bb3f18fb-1f72-45be-cc9c-7305eab94d7c"
      },
      "execution_count": null,
      "outputs": [
        {
          "output_type": "stream",
          "name": "stdout",
          "text": [
            "Chunk 1 created with 35005 pop songs and 17489 rap songs.\n",
            "Chunk 2 created with 35005 pop songs and 17489 rap songs.\n",
            "Chunk 3 created with 35005 pop songs and 17489 rap songs.\n",
            "Chunk 4 created with 35005 pop songs and 17489 rap songs.\n",
            "Chunk 5 created with 35005 pop songs and 17489 rap songs.\n",
            "Chunk 6 created with 35005 pop songs and 17489 rap songs.\n",
            "Chunk 7 created with 35005 pop songs and 17489 rap songs.\n",
            "Chunk 8 created with 35005 pop songs and 17489 rap songs.\n",
            "Chunk 9 created with 35005 pop songs and 17489 rap songs.\n",
            "Chunk 10 created with 35005 pop songs and 17489 rap songs.\n",
            "Chunk 11 created with 35005 pop songs and 17489 rap songs.\n",
            "Chunk 12 created with 35005 pop songs and 17489 rap songs.\n",
            "Chunk 13 created with 35005 pop songs and 17489 rap songs.\n",
            "Chunk 14 created with 35005 pop songs and 17489 rap songs.\n",
            "Chunk 15 created with 35005 pop songs and 17489 rap songs.\n",
            "Chunk 16 created with 35005 pop songs and 17489 rap songs.\n",
            "Chunk 17 created with 35005 pop songs and 17489 rap songs.\n",
            "Chunk 18 created with 35005 pop songs and 17489 rap songs.\n",
            "Chunk 19 created with 35005 pop songs and 17489 rap songs.\n",
            "Chunk 20 created with 35005 pop songs and 17489 rap songs.\n",
            "Chunk 21 created with 35005 pop songs and 17489 rap songs.\n",
            "Chunk 22 created with 35005 pop songs and 17489 rap songs.\n",
            "Chunk 23 created with 35005 pop songs and 17489 rap songs.\n",
            "Chunk 24 created with 35005 pop songs and 17489 rap songs.\n",
            "Chunk 25 created with 35005 pop songs and 17489 rap songs.\n",
            "Chunk 26 created with 35005 pop songs and 17489 rap songs.\n",
            "Chunk 27 created with 35005 pop songs and 17489 rap songs.\n",
            "Chunk 28 created with 35005 pop songs and 17489 rap songs.\n",
            "Chunk 29 created with 35005 pop songs and 17489 rap songs.\n",
            "Chunk 30 created with 35005 pop songs and 17489 rap songs.\n",
            "Chunk 31 created with 35005 pop songs and 17489 rap songs.\n",
            "Chunk 32 created with 35005 pop songs and 17489 rap songs.\n",
            "Chunk 33 created with 35005 pop songs and 17489 rap songs.\n",
            "Chunk 34 created with 35005 pop songs and 17489 rap songs.\n",
            "Chunk 35 created with 35005 pop songs and 17489 rap songs.\n",
            "Chunk 36 created with 35005 pop songs and 17489 rap songs.\n",
            "Chunk 37 created with 35005 pop songs and 17489 rap songs.\n",
            "Chunk 38 created with 35005 pop songs and 17489 rap songs.\n",
            "Chunk 39 created with 35005 pop songs and 17489 rap songs.\n",
            "Chunk 40 created with 35036 pop songs and 17489 rap songs.\n"
          ]
        }
      ]
    }
  ]
}