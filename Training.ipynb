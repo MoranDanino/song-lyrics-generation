{
  "nbformat": 4,
  "nbformat_minor": 0,
  "metadata": {
    "colab": {
      "provenance": [],
      "machine_shape": "hm",
      "gpuType": "T4"
    },
    "kernelspec": {
      "name": "python3",
      "display_name": "Python 3"
    },
    "language_info": {
      "name": "python"
    },
    "accelerator": "GPU",
    "widgets": {
      "application/vnd.jupyter.widget-state+json": {
        "07b55df3e2e0431a819de9cc0084cee5": {
          "model_module": "@jupyter-widgets/controls",
          "model_name": "HBoxModel",
          "model_module_version": "1.5.0",
          "state": {
            "_dom_classes": [],
            "_model_module": "@jupyter-widgets/controls",
            "_model_module_version": "1.5.0",
            "_model_name": "HBoxModel",
            "_view_count": null,
            "_view_module": "@jupyter-widgets/controls",
            "_view_module_version": "1.5.0",
            "_view_name": "HBoxView",
            "box_style": "",
            "children": [
              "IPY_MODEL_eb10a717b7ec443784a56461a3ad450d",
              "IPY_MODEL_67e0d35201d442cabb5b63c783bb8b5c",
              "IPY_MODEL_5debbc22e92e4972b7b3c7590ff9a455"
            ],
            "layout": "IPY_MODEL_aed437f26aad48d4a6c14a82aded9318"
          }
        },
        "eb10a717b7ec443784a56461a3ad450d": {
          "model_module": "@jupyter-widgets/controls",
          "model_name": "HTMLModel",
          "model_module_version": "1.5.0",
          "state": {
            "_dom_classes": [],
            "_model_module": "@jupyter-widgets/controls",
            "_model_module_version": "1.5.0",
            "_model_name": "HTMLModel",
            "_view_count": null,
            "_view_module": "@jupyter-widgets/controls",
            "_view_module_version": "1.5.0",
            "_view_name": "HTMLView",
            "description": "",
            "description_tooltip": null,
            "layout": "IPY_MODEL_8d44d97418f04f23a477863e515cc9b7",
            "placeholder": "​",
            "style": "IPY_MODEL_ffe7cc80c99e4b25b7933871a4df0409",
            "value": "config.json: 100%"
          }
        },
        "67e0d35201d442cabb5b63c783bb8b5c": {
          "model_module": "@jupyter-widgets/controls",
          "model_name": "FloatProgressModel",
          "model_module_version": "1.5.0",
          "state": {
            "_dom_classes": [],
            "_model_module": "@jupyter-widgets/controls",
            "_model_module_version": "1.5.0",
            "_model_name": "FloatProgressModel",
            "_view_count": null,
            "_view_module": "@jupyter-widgets/controls",
            "_view_module_version": "1.5.0",
            "_view_name": "ProgressView",
            "bar_style": "success",
            "description": "",
            "description_tooltip": null,
            "layout": "IPY_MODEL_f3dec245f2ef4741b3c8617c1aa1c37e",
            "max": 665,
            "min": 0,
            "orientation": "horizontal",
            "style": "IPY_MODEL_f095ff92ae7f482fba5ddf33f070a039",
            "value": 665
          }
        },
        "5debbc22e92e4972b7b3c7590ff9a455": {
          "model_module": "@jupyter-widgets/controls",
          "model_name": "HTMLModel",
          "model_module_version": "1.5.0",
          "state": {
            "_dom_classes": [],
            "_model_module": "@jupyter-widgets/controls",
            "_model_module_version": "1.5.0",
            "_model_name": "HTMLModel",
            "_view_count": null,
            "_view_module": "@jupyter-widgets/controls",
            "_view_module_version": "1.5.0",
            "_view_name": "HTMLView",
            "description": "",
            "description_tooltip": null,
            "layout": "IPY_MODEL_9da2d37d281c40508a315845ec7ef61c",
            "placeholder": "​",
            "style": "IPY_MODEL_d80e9528428b41f794709110f2a20345",
            "value": " 665/665 [00:00&lt;00:00, 54.3kB/s]"
          }
        },
        "aed437f26aad48d4a6c14a82aded9318": {
          "model_module": "@jupyter-widgets/base",
          "model_name": "LayoutModel",
          "model_module_version": "1.2.0",
          "state": {
            "_model_module": "@jupyter-widgets/base",
            "_model_module_version": "1.2.0",
            "_model_name": "LayoutModel",
            "_view_count": null,
            "_view_module": "@jupyter-widgets/base",
            "_view_module_version": "1.2.0",
            "_view_name": "LayoutView",
            "align_content": null,
            "align_items": null,
            "align_self": null,
            "border": null,
            "bottom": null,
            "display": null,
            "flex": null,
            "flex_flow": null,
            "grid_area": null,
            "grid_auto_columns": null,
            "grid_auto_flow": null,
            "grid_auto_rows": null,
            "grid_column": null,
            "grid_gap": null,
            "grid_row": null,
            "grid_template_areas": null,
            "grid_template_columns": null,
            "grid_template_rows": null,
            "height": null,
            "justify_content": null,
            "justify_items": null,
            "left": null,
            "margin": null,
            "max_height": null,
            "max_width": null,
            "min_height": null,
            "min_width": null,
            "object_fit": null,
            "object_position": null,
            "order": null,
            "overflow": null,
            "overflow_x": null,
            "overflow_y": null,
            "padding": null,
            "right": null,
            "top": null,
            "visibility": null,
            "width": null
          }
        },
        "8d44d97418f04f23a477863e515cc9b7": {
          "model_module": "@jupyter-widgets/base",
          "model_name": "LayoutModel",
          "model_module_version": "1.2.0",
          "state": {
            "_model_module": "@jupyter-widgets/base",
            "_model_module_version": "1.2.0",
            "_model_name": "LayoutModel",
            "_view_count": null,
            "_view_module": "@jupyter-widgets/base",
            "_view_module_version": "1.2.0",
            "_view_name": "LayoutView",
            "align_content": null,
            "align_items": null,
            "align_self": null,
            "border": null,
            "bottom": null,
            "display": null,
            "flex": null,
            "flex_flow": null,
            "grid_area": null,
            "grid_auto_columns": null,
            "grid_auto_flow": null,
            "grid_auto_rows": null,
            "grid_column": null,
            "grid_gap": null,
            "grid_row": null,
            "grid_template_areas": null,
            "grid_template_columns": null,
            "grid_template_rows": null,
            "height": null,
            "justify_content": null,
            "justify_items": null,
            "left": null,
            "margin": null,
            "max_height": null,
            "max_width": null,
            "min_height": null,
            "min_width": null,
            "object_fit": null,
            "object_position": null,
            "order": null,
            "overflow": null,
            "overflow_x": null,
            "overflow_y": null,
            "padding": null,
            "right": null,
            "top": null,
            "visibility": null,
            "width": null
          }
        },
        "ffe7cc80c99e4b25b7933871a4df0409": {
          "model_module": "@jupyter-widgets/controls",
          "model_name": "DescriptionStyleModel",
          "model_module_version": "1.5.0",
          "state": {
            "_model_module": "@jupyter-widgets/controls",
            "_model_module_version": "1.5.0",
            "_model_name": "DescriptionStyleModel",
            "_view_count": null,
            "_view_module": "@jupyter-widgets/base",
            "_view_module_version": "1.2.0",
            "_view_name": "StyleView",
            "description_width": ""
          }
        },
        "f3dec245f2ef4741b3c8617c1aa1c37e": {
          "model_module": "@jupyter-widgets/base",
          "model_name": "LayoutModel",
          "model_module_version": "1.2.0",
          "state": {
            "_model_module": "@jupyter-widgets/base",
            "_model_module_version": "1.2.0",
            "_model_name": "LayoutModel",
            "_view_count": null,
            "_view_module": "@jupyter-widgets/base",
            "_view_module_version": "1.2.0",
            "_view_name": "LayoutView",
            "align_content": null,
            "align_items": null,
            "align_self": null,
            "border": null,
            "bottom": null,
            "display": null,
            "flex": null,
            "flex_flow": null,
            "grid_area": null,
            "grid_auto_columns": null,
            "grid_auto_flow": null,
            "grid_auto_rows": null,
            "grid_column": null,
            "grid_gap": null,
            "grid_row": null,
            "grid_template_areas": null,
            "grid_template_columns": null,
            "grid_template_rows": null,
            "height": null,
            "justify_content": null,
            "justify_items": null,
            "left": null,
            "margin": null,
            "max_height": null,
            "max_width": null,
            "min_height": null,
            "min_width": null,
            "object_fit": null,
            "object_position": null,
            "order": null,
            "overflow": null,
            "overflow_x": null,
            "overflow_y": null,
            "padding": null,
            "right": null,
            "top": null,
            "visibility": null,
            "width": null
          }
        },
        "f095ff92ae7f482fba5ddf33f070a039": {
          "model_module": "@jupyter-widgets/controls",
          "model_name": "ProgressStyleModel",
          "model_module_version": "1.5.0",
          "state": {
            "_model_module": "@jupyter-widgets/controls",
            "_model_module_version": "1.5.0",
            "_model_name": "ProgressStyleModel",
            "_view_count": null,
            "_view_module": "@jupyter-widgets/base",
            "_view_module_version": "1.2.0",
            "_view_name": "StyleView",
            "bar_color": null,
            "description_width": ""
          }
        },
        "9da2d37d281c40508a315845ec7ef61c": {
          "model_module": "@jupyter-widgets/base",
          "model_name": "LayoutModel",
          "model_module_version": "1.2.0",
          "state": {
            "_model_module": "@jupyter-widgets/base",
            "_model_module_version": "1.2.0",
            "_model_name": "LayoutModel",
            "_view_count": null,
            "_view_module": "@jupyter-widgets/base",
            "_view_module_version": "1.2.0",
            "_view_name": "LayoutView",
            "align_content": null,
            "align_items": null,
            "align_self": null,
            "border": null,
            "bottom": null,
            "display": null,
            "flex": null,
            "flex_flow": null,
            "grid_area": null,
            "grid_auto_columns": null,
            "grid_auto_flow": null,
            "grid_auto_rows": null,
            "grid_column": null,
            "grid_gap": null,
            "grid_row": null,
            "grid_template_areas": null,
            "grid_template_columns": null,
            "grid_template_rows": null,
            "height": null,
            "justify_content": null,
            "justify_items": null,
            "left": null,
            "margin": null,
            "max_height": null,
            "max_width": null,
            "min_height": null,
            "min_width": null,
            "object_fit": null,
            "object_position": null,
            "order": null,
            "overflow": null,
            "overflow_x": null,
            "overflow_y": null,
            "padding": null,
            "right": null,
            "top": null,
            "visibility": null,
            "width": null
          }
        },
        "d80e9528428b41f794709110f2a20345": {
          "model_module": "@jupyter-widgets/controls",
          "model_name": "DescriptionStyleModel",
          "model_module_version": "1.5.0",
          "state": {
            "_model_module": "@jupyter-widgets/controls",
            "_model_module_version": "1.5.0",
            "_model_name": "DescriptionStyleModel",
            "_view_count": null,
            "_view_module": "@jupyter-widgets/base",
            "_view_module_version": "1.2.0",
            "_view_name": "StyleView",
            "description_width": ""
          }
        },
        "a2d8bda182bb4f3bad20e198b70a2c75": {
          "model_module": "@jupyter-widgets/controls",
          "model_name": "HBoxModel",
          "model_module_version": "1.5.0",
          "state": {
            "_dom_classes": [],
            "_model_module": "@jupyter-widgets/controls",
            "_model_module_version": "1.5.0",
            "_model_name": "HBoxModel",
            "_view_count": null,
            "_view_module": "@jupyter-widgets/controls",
            "_view_module_version": "1.5.0",
            "_view_name": "HBoxView",
            "box_style": "",
            "children": [
              "IPY_MODEL_d36d40371b41402882e3180679833557",
              "IPY_MODEL_027948b9c755406e93d9d7dfef4b715d",
              "IPY_MODEL_2faf49bd43a64ff5b83ad01cf647ebd4"
            ],
            "layout": "IPY_MODEL_4f55fb9d081648bb89f42eb03f22cf36"
          }
        },
        "d36d40371b41402882e3180679833557": {
          "model_module": "@jupyter-widgets/controls",
          "model_name": "HTMLModel",
          "model_module_version": "1.5.0",
          "state": {
            "_dom_classes": [],
            "_model_module": "@jupyter-widgets/controls",
            "_model_module_version": "1.5.0",
            "_model_name": "HTMLModel",
            "_view_count": null,
            "_view_module": "@jupyter-widgets/controls",
            "_view_module_version": "1.5.0",
            "_view_name": "HTMLView",
            "description": "",
            "description_tooltip": null,
            "layout": "IPY_MODEL_9b20da7ac50448a2a202bb8407148e9a",
            "placeholder": "​",
            "style": "IPY_MODEL_9afe1961d2a4447d866a440ea23b676a",
            "value": "model.safetensors: 100%"
          }
        },
        "027948b9c755406e93d9d7dfef4b715d": {
          "model_module": "@jupyter-widgets/controls",
          "model_name": "FloatProgressModel",
          "model_module_version": "1.5.0",
          "state": {
            "_dom_classes": [],
            "_model_module": "@jupyter-widgets/controls",
            "_model_module_version": "1.5.0",
            "_model_name": "FloatProgressModel",
            "_view_count": null,
            "_view_module": "@jupyter-widgets/controls",
            "_view_module_version": "1.5.0",
            "_view_name": "ProgressView",
            "bar_style": "success",
            "description": "",
            "description_tooltip": null,
            "layout": "IPY_MODEL_fb16671e904e41628abc3ebac61aef45",
            "max": 548105171,
            "min": 0,
            "orientation": "horizontal",
            "style": "IPY_MODEL_1ef7789d9f284555ab05165808cbec55",
            "value": 548105171
          }
        },
        "2faf49bd43a64ff5b83ad01cf647ebd4": {
          "model_module": "@jupyter-widgets/controls",
          "model_name": "HTMLModel",
          "model_module_version": "1.5.0",
          "state": {
            "_dom_classes": [],
            "_model_module": "@jupyter-widgets/controls",
            "_model_module_version": "1.5.0",
            "_model_name": "HTMLModel",
            "_view_count": null,
            "_view_module": "@jupyter-widgets/controls",
            "_view_module_version": "1.5.0",
            "_view_name": "HTMLView",
            "description": "",
            "description_tooltip": null,
            "layout": "IPY_MODEL_4cfc7f2e36514ce6b3ccc705d09535b9",
            "placeholder": "​",
            "style": "IPY_MODEL_db0b6feefbf84c5d960b12ce7b41dbaa",
            "value": " 548M/548M [00:04&lt;00:00, 141MB/s]"
          }
        },
        "4f55fb9d081648bb89f42eb03f22cf36": {
          "model_module": "@jupyter-widgets/base",
          "model_name": "LayoutModel",
          "model_module_version": "1.2.0",
          "state": {
            "_model_module": "@jupyter-widgets/base",
            "_model_module_version": "1.2.0",
            "_model_name": "LayoutModel",
            "_view_count": null,
            "_view_module": "@jupyter-widgets/base",
            "_view_module_version": "1.2.0",
            "_view_name": "LayoutView",
            "align_content": null,
            "align_items": null,
            "align_self": null,
            "border": null,
            "bottom": null,
            "display": null,
            "flex": null,
            "flex_flow": null,
            "grid_area": null,
            "grid_auto_columns": null,
            "grid_auto_flow": null,
            "grid_auto_rows": null,
            "grid_column": null,
            "grid_gap": null,
            "grid_row": null,
            "grid_template_areas": null,
            "grid_template_columns": null,
            "grid_template_rows": null,
            "height": null,
            "justify_content": null,
            "justify_items": null,
            "left": null,
            "margin": null,
            "max_height": null,
            "max_width": null,
            "min_height": null,
            "min_width": null,
            "object_fit": null,
            "object_position": null,
            "order": null,
            "overflow": null,
            "overflow_x": null,
            "overflow_y": null,
            "padding": null,
            "right": null,
            "top": null,
            "visibility": null,
            "width": null
          }
        },
        "9b20da7ac50448a2a202bb8407148e9a": {
          "model_module": "@jupyter-widgets/base",
          "model_name": "LayoutModel",
          "model_module_version": "1.2.0",
          "state": {
            "_model_module": "@jupyter-widgets/base",
            "_model_module_version": "1.2.0",
            "_model_name": "LayoutModel",
            "_view_count": null,
            "_view_module": "@jupyter-widgets/base",
            "_view_module_version": "1.2.0",
            "_view_name": "LayoutView",
            "align_content": null,
            "align_items": null,
            "align_self": null,
            "border": null,
            "bottom": null,
            "display": null,
            "flex": null,
            "flex_flow": null,
            "grid_area": null,
            "grid_auto_columns": null,
            "grid_auto_flow": null,
            "grid_auto_rows": null,
            "grid_column": null,
            "grid_gap": null,
            "grid_row": null,
            "grid_template_areas": null,
            "grid_template_columns": null,
            "grid_template_rows": null,
            "height": null,
            "justify_content": null,
            "justify_items": null,
            "left": null,
            "margin": null,
            "max_height": null,
            "max_width": null,
            "min_height": null,
            "min_width": null,
            "object_fit": null,
            "object_position": null,
            "order": null,
            "overflow": null,
            "overflow_x": null,
            "overflow_y": null,
            "padding": null,
            "right": null,
            "top": null,
            "visibility": null,
            "width": null
          }
        },
        "9afe1961d2a4447d866a440ea23b676a": {
          "model_module": "@jupyter-widgets/controls",
          "model_name": "DescriptionStyleModel",
          "model_module_version": "1.5.0",
          "state": {
            "_model_module": "@jupyter-widgets/controls",
            "_model_module_version": "1.5.0",
            "_model_name": "DescriptionStyleModel",
            "_view_count": null,
            "_view_module": "@jupyter-widgets/base",
            "_view_module_version": "1.2.0",
            "_view_name": "StyleView",
            "description_width": ""
          }
        },
        "fb16671e904e41628abc3ebac61aef45": {
          "model_module": "@jupyter-widgets/base",
          "model_name": "LayoutModel",
          "model_module_version": "1.2.0",
          "state": {
            "_model_module": "@jupyter-widgets/base",
            "_model_module_version": "1.2.0",
            "_model_name": "LayoutModel",
            "_view_count": null,
            "_view_module": "@jupyter-widgets/base",
            "_view_module_version": "1.2.0",
            "_view_name": "LayoutView",
            "align_content": null,
            "align_items": null,
            "align_self": null,
            "border": null,
            "bottom": null,
            "display": null,
            "flex": null,
            "flex_flow": null,
            "grid_area": null,
            "grid_auto_columns": null,
            "grid_auto_flow": null,
            "grid_auto_rows": null,
            "grid_column": null,
            "grid_gap": null,
            "grid_row": null,
            "grid_template_areas": null,
            "grid_template_columns": null,
            "grid_template_rows": null,
            "height": null,
            "justify_content": null,
            "justify_items": null,
            "left": null,
            "margin": null,
            "max_height": null,
            "max_width": null,
            "min_height": null,
            "min_width": null,
            "object_fit": null,
            "object_position": null,
            "order": null,
            "overflow": null,
            "overflow_x": null,
            "overflow_y": null,
            "padding": null,
            "right": null,
            "top": null,
            "visibility": null,
            "width": null
          }
        },
        "1ef7789d9f284555ab05165808cbec55": {
          "model_module": "@jupyter-widgets/controls",
          "model_name": "ProgressStyleModel",
          "model_module_version": "1.5.0",
          "state": {
            "_model_module": "@jupyter-widgets/controls",
            "_model_module_version": "1.5.0",
            "_model_name": "ProgressStyleModel",
            "_view_count": null,
            "_view_module": "@jupyter-widgets/base",
            "_view_module_version": "1.2.0",
            "_view_name": "StyleView",
            "bar_color": null,
            "description_width": ""
          }
        },
        "4cfc7f2e36514ce6b3ccc705d09535b9": {
          "model_module": "@jupyter-widgets/base",
          "model_name": "LayoutModel",
          "model_module_version": "1.2.0",
          "state": {
            "_model_module": "@jupyter-widgets/base",
            "_model_module_version": "1.2.0",
            "_model_name": "LayoutModel",
            "_view_count": null,
            "_view_module": "@jupyter-widgets/base",
            "_view_module_version": "1.2.0",
            "_view_name": "LayoutView",
            "align_content": null,
            "align_items": null,
            "align_self": null,
            "border": null,
            "bottom": null,
            "display": null,
            "flex": null,
            "flex_flow": null,
            "grid_area": null,
            "grid_auto_columns": null,
            "grid_auto_flow": null,
            "grid_auto_rows": null,
            "grid_column": null,
            "grid_gap": null,
            "grid_row": null,
            "grid_template_areas": null,
            "grid_template_columns": null,
            "grid_template_rows": null,
            "height": null,
            "justify_content": null,
            "justify_items": null,
            "left": null,
            "margin": null,
            "max_height": null,
            "max_width": null,
            "min_height": null,
            "min_width": null,
            "object_fit": null,
            "object_position": null,
            "order": null,
            "overflow": null,
            "overflow_x": null,
            "overflow_y": null,
            "padding": null,
            "right": null,
            "top": null,
            "visibility": null,
            "width": null
          }
        },
        "db0b6feefbf84c5d960b12ce7b41dbaa": {
          "model_module": "@jupyter-widgets/controls",
          "model_name": "DescriptionStyleModel",
          "model_module_version": "1.5.0",
          "state": {
            "_model_module": "@jupyter-widgets/controls",
            "_model_module_version": "1.5.0",
            "_model_name": "DescriptionStyleModel",
            "_view_count": null,
            "_view_module": "@jupyter-widgets/base",
            "_view_module_version": "1.2.0",
            "_view_name": "StyleView",
            "description_width": ""
          }
        },
        "2b6b4d714f0145ba9091496b0400b4c8": {
          "model_module": "@jupyter-widgets/controls",
          "model_name": "HBoxModel",
          "model_module_version": "1.5.0",
          "state": {
            "_dom_classes": [],
            "_model_module": "@jupyter-widgets/controls",
            "_model_module_version": "1.5.0",
            "_model_name": "HBoxModel",
            "_view_count": null,
            "_view_module": "@jupyter-widgets/controls",
            "_view_module_version": "1.5.0",
            "_view_name": "HBoxView",
            "box_style": "",
            "children": [
              "IPY_MODEL_157b5c8e60e04f2e889bc6134a862af1",
              "IPY_MODEL_5a832584c8754fb483e2460afc7bfb35",
              "IPY_MODEL_c0e99065e3eb40e597a8e080a476cb4d"
            ],
            "layout": "IPY_MODEL_6b51e894584a45bc878c96c34a4bc98a"
          }
        },
        "157b5c8e60e04f2e889bc6134a862af1": {
          "model_module": "@jupyter-widgets/controls",
          "model_name": "HTMLModel",
          "model_module_version": "1.5.0",
          "state": {
            "_dom_classes": [],
            "_model_module": "@jupyter-widgets/controls",
            "_model_module_version": "1.5.0",
            "_model_name": "HTMLModel",
            "_view_count": null,
            "_view_module": "@jupyter-widgets/controls",
            "_view_module_version": "1.5.0",
            "_view_name": "HTMLView",
            "description": "",
            "description_tooltip": null,
            "layout": "IPY_MODEL_bb391a58452746db964a62c3f0617030",
            "placeholder": "​",
            "style": "IPY_MODEL_17eed6772d25455db1b0a8fe0c6a530d",
            "value": "generation_config.json: 100%"
          }
        },
        "5a832584c8754fb483e2460afc7bfb35": {
          "model_module": "@jupyter-widgets/controls",
          "model_name": "FloatProgressModel",
          "model_module_version": "1.5.0",
          "state": {
            "_dom_classes": [],
            "_model_module": "@jupyter-widgets/controls",
            "_model_module_version": "1.5.0",
            "_model_name": "FloatProgressModel",
            "_view_count": null,
            "_view_module": "@jupyter-widgets/controls",
            "_view_module_version": "1.5.0",
            "_view_name": "ProgressView",
            "bar_style": "success",
            "description": "",
            "description_tooltip": null,
            "layout": "IPY_MODEL_eb4c14f6ba974efc8c5b818e5cb50821",
            "max": 124,
            "min": 0,
            "orientation": "horizontal",
            "style": "IPY_MODEL_596d033ed1f1426f99125484be586ec8",
            "value": 124
          }
        },
        "c0e99065e3eb40e597a8e080a476cb4d": {
          "model_module": "@jupyter-widgets/controls",
          "model_name": "HTMLModel",
          "model_module_version": "1.5.0",
          "state": {
            "_dom_classes": [],
            "_model_module": "@jupyter-widgets/controls",
            "_model_module_version": "1.5.0",
            "_model_name": "HTMLModel",
            "_view_count": null,
            "_view_module": "@jupyter-widgets/controls",
            "_view_module_version": "1.5.0",
            "_view_name": "HTMLView",
            "description": "",
            "description_tooltip": null,
            "layout": "IPY_MODEL_e5545f646e2f478abd7134429ccc4c59",
            "placeholder": "​",
            "style": "IPY_MODEL_d15f3cb610e142abb15902c307153000",
            "value": " 124/124 [00:00&lt;00:00, 10.3kB/s]"
          }
        },
        "6b51e894584a45bc878c96c34a4bc98a": {
          "model_module": "@jupyter-widgets/base",
          "model_name": "LayoutModel",
          "model_module_version": "1.2.0",
          "state": {
            "_model_module": "@jupyter-widgets/base",
            "_model_module_version": "1.2.0",
            "_model_name": "LayoutModel",
            "_view_count": null,
            "_view_module": "@jupyter-widgets/base",
            "_view_module_version": "1.2.0",
            "_view_name": "LayoutView",
            "align_content": null,
            "align_items": null,
            "align_self": null,
            "border": null,
            "bottom": null,
            "display": null,
            "flex": null,
            "flex_flow": null,
            "grid_area": null,
            "grid_auto_columns": null,
            "grid_auto_flow": null,
            "grid_auto_rows": null,
            "grid_column": null,
            "grid_gap": null,
            "grid_row": null,
            "grid_template_areas": null,
            "grid_template_columns": null,
            "grid_template_rows": null,
            "height": null,
            "justify_content": null,
            "justify_items": null,
            "left": null,
            "margin": null,
            "max_height": null,
            "max_width": null,
            "min_height": null,
            "min_width": null,
            "object_fit": null,
            "object_position": null,
            "order": null,
            "overflow": null,
            "overflow_x": null,
            "overflow_y": null,
            "padding": null,
            "right": null,
            "top": null,
            "visibility": null,
            "width": null
          }
        },
        "bb391a58452746db964a62c3f0617030": {
          "model_module": "@jupyter-widgets/base",
          "model_name": "LayoutModel",
          "model_module_version": "1.2.0",
          "state": {
            "_model_module": "@jupyter-widgets/base",
            "_model_module_version": "1.2.0",
            "_model_name": "LayoutModel",
            "_view_count": null,
            "_view_module": "@jupyter-widgets/base",
            "_view_module_version": "1.2.0",
            "_view_name": "LayoutView",
            "align_content": null,
            "align_items": null,
            "align_self": null,
            "border": null,
            "bottom": null,
            "display": null,
            "flex": null,
            "flex_flow": null,
            "grid_area": null,
            "grid_auto_columns": null,
            "grid_auto_flow": null,
            "grid_auto_rows": null,
            "grid_column": null,
            "grid_gap": null,
            "grid_row": null,
            "grid_template_areas": null,
            "grid_template_columns": null,
            "grid_template_rows": null,
            "height": null,
            "justify_content": null,
            "justify_items": null,
            "left": null,
            "margin": null,
            "max_height": null,
            "max_width": null,
            "min_height": null,
            "min_width": null,
            "object_fit": null,
            "object_position": null,
            "order": null,
            "overflow": null,
            "overflow_x": null,
            "overflow_y": null,
            "padding": null,
            "right": null,
            "top": null,
            "visibility": null,
            "width": null
          }
        },
        "17eed6772d25455db1b0a8fe0c6a530d": {
          "model_module": "@jupyter-widgets/controls",
          "model_name": "DescriptionStyleModel",
          "model_module_version": "1.5.0",
          "state": {
            "_model_module": "@jupyter-widgets/controls",
            "_model_module_version": "1.5.0",
            "_model_name": "DescriptionStyleModel",
            "_view_count": null,
            "_view_module": "@jupyter-widgets/base",
            "_view_module_version": "1.2.0",
            "_view_name": "StyleView",
            "description_width": ""
          }
        },
        "eb4c14f6ba974efc8c5b818e5cb50821": {
          "model_module": "@jupyter-widgets/base",
          "model_name": "LayoutModel",
          "model_module_version": "1.2.0",
          "state": {
            "_model_module": "@jupyter-widgets/base",
            "_model_module_version": "1.2.0",
            "_model_name": "LayoutModel",
            "_view_count": null,
            "_view_module": "@jupyter-widgets/base",
            "_view_module_version": "1.2.0",
            "_view_name": "LayoutView",
            "align_content": null,
            "align_items": null,
            "align_self": null,
            "border": null,
            "bottom": null,
            "display": null,
            "flex": null,
            "flex_flow": null,
            "grid_area": null,
            "grid_auto_columns": null,
            "grid_auto_flow": null,
            "grid_auto_rows": null,
            "grid_column": null,
            "grid_gap": null,
            "grid_row": null,
            "grid_template_areas": null,
            "grid_template_columns": null,
            "grid_template_rows": null,
            "height": null,
            "justify_content": null,
            "justify_items": null,
            "left": null,
            "margin": null,
            "max_height": null,
            "max_width": null,
            "min_height": null,
            "min_width": null,
            "object_fit": null,
            "object_position": null,
            "order": null,
            "overflow": null,
            "overflow_x": null,
            "overflow_y": null,
            "padding": null,
            "right": null,
            "top": null,
            "visibility": null,
            "width": null
          }
        },
        "596d033ed1f1426f99125484be586ec8": {
          "model_module": "@jupyter-widgets/controls",
          "model_name": "ProgressStyleModel",
          "model_module_version": "1.5.0",
          "state": {
            "_model_module": "@jupyter-widgets/controls",
            "_model_module_version": "1.5.0",
            "_model_name": "ProgressStyleModel",
            "_view_count": null,
            "_view_module": "@jupyter-widgets/base",
            "_view_module_version": "1.2.0",
            "_view_name": "StyleView",
            "bar_color": null,
            "description_width": ""
          }
        },
        "e5545f646e2f478abd7134429ccc4c59": {
          "model_module": "@jupyter-widgets/base",
          "model_name": "LayoutModel",
          "model_module_version": "1.2.0",
          "state": {
            "_model_module": "@jupyter-widgets/base",
            "_model_module_version": "1.2.0",
            "_model_name": "LayoutModel",
            "_view_count": null,
            "_view_module": "@jupyter-widgets/base",
            "_view_module_version": "1.2.0",
            "_view_name": "LayoutView",
            "align_content": null,
            "align_items": null,
            "align_self": null,
            "border": null,
            "bottom": null,
            "display": null,
            "flex": null,
            "flex_flow": null,
            "grid_area": null,
            "grid_auto_columns": null,
            "grid_auto_flow": null,
            "grid_auto_rows": null,
            "grid_column": null,
            "grid_gap": null,
            "grid_row": null,
            "grid_template_areas": null,
            "grid_template_columns": null,
            "grid_template_rows": null,
            "height": null,
            "justify_content": null,
            "justify_items": null,
            "left": null,
            "margin": null,
            "max_height": null,
            "max_width": null,
            "min_height": null,
            "min_width": null,
            "object_fit": null,
            "object_position": null,
            "order": null,
            "overflow": null,
            "overflow_x": null,
            "overflow_y": null,
            "padding": null,
            "right": null,
            "top": null,
            "visibility": null,
            "width": null
          }
        },
        "d15f3cb610e142abb15902c307153000": {
          "model_module": "@jupyter-widgets/controls",
          "model_name": "DescriptionStyleModel",
          "model_module_version": "1.5.0",
          "state": {
            "_model_module": "@jupyter-widgets/controls",
            "_model_module_version": "1.5.0",
            "_model_name": "DescriptionStyleModel",
            "_view_count": null,
            "_view_module": "@jupyter-widgets/base",
            "_view_module_version": "1.2.0",
            "_view_name": "StyleView",
            "description_width": ""
          }
        }
      }
    }
  },
  "cells": [
    {
      "cell_type": "markdown",
      "source": [
        "### Training the model:"
      ],
      "metadata": {
        "id": "2xod8TqQwNwz"
      }
    },
    {
      "cell_type": "code",
      "execution_count": null,
      "metadata": {
        "id": "ASSV-wz0fqAN"
      },
      "outputs": [],
      "source": [
        "# # if needed:\n",
        "# install dependencies\n",
        "# !pip install torch\n",
        "# !pip install transformers[torch]"
      ]
    },
    {
      "cell_type": "code",
      "source": [
        "# imports\n",
        "import torch\n",
        "import pandas as pd\n",
        "import numpy as np\n",
        "from torch.utils.data.dataloader import DataLoader\n",
        "from google.colab import drive\n",
        "from transformers import AutoTokenizer, AutoModelForCausalLM\n",
        "from torch.utils.data import random_split, DataLoader\n",
        "from sklearn.model_selection import train_test_split\n",
        "import math\n",
        "import time\n",
        "import matplotlib.pyplot as plt\n",
        "\n",
        "np.random.seed(123)\n",
        "\n",
        "device = torch.device(\"cuda\" if torch.cuda.is_available() else \"cpu\")  # if using GPU"
      ],
      "metadata": {
        "id": "2Y0CMXobfumB"
      },
      "execution_count": null,
      "outputs": []
    },
    {
      "cell_type": "code",
      "source": [
        "# mount drive\n",
        "drive.mount('/content/drive')\n",
        "\n",
        "# define path to folder - CHANGE TO WHICHEVER DIRECTORY YOU WANT\n",
        "path_folder = f\"/content/drive/MyDrive/Deep_Learning_project/splits\"\n",
        "path_out = f\"/content/drive/MyDrive/Deep_Learning_project/model\"\n",
        "\n",
        "path_folder_tokenizer = f\"/content/drive/MyDrive/Deep_Learning_project/splits/tokenizer\""
      ],
      "metadata": {
        "id": "aa9WeQmafuhP",
        "colab": {
          "base_uri": "https://localhost:8080/"
        },
        "outputId": "34b3d0aa-10cb-4f3b-acc7-873ddccad958"
      },
      "execution_count": null,
      "outputs": [
        {
          "output_type": "stream",
          "name": "stdout",
          "text": [
            "Mounted at /content/drive\n"
          ]
        }
      ]
    },
    {
      "cell_type": "code",
      "source": [
        "input_ids_path = path_folder+'/all_input_ids.npy'\n",
        "attn_masks_path = path_folder+'/all_attention_masks.npy'"
      ],
      "metadata": {
        "id": "Tw4GNc0yfueL"
      },
      "execution_count": null,
      "outputs": []
    },
    {
      "cell_type": "code",
      "source": [
        "# load pre-trained CausalLM GPT-2 model and the matching tokenizer\n",
        "tokenizer = AutoTokenizer.from_pretrained(path_folder_tokenizer)\n",
        "\n",
        "configuration = AutoModelForCausalLM.from_pretrained('gpt2')\n",
        "\n",
        "model = AutoModelForCausalLM.from_pretrained('gpt2', config=configuration)  # load pre-trained causal LM model\n",
        "\n",
        "model.resize_token_embeddings(len(tokenizer))\n",
        "\n",
        "# move model to GPU\n",
        "device = torch.device(\"cuda\" if torch.cuda.is_available() else \"cpu\")  # if using GPU\n",
        "model = model.to(device)"
      ],
      "metadata": {
        "id": "S5uGxPJDfubd",
        "colab": {
          "base_uri": "https://localhost:8080/",
          "height": 254,
          "referenced_widgets": [
            "07b55df3e2e0431a819de9cc0084cee5",
            "eb10a717b7ec443784a56461a3ad450d",
            "67e0d35201d442cabb5b63c783bb8b5c",
            "5debbc22e92e4972b7b3c7590ff9a455",
            "aed437f26aad48d4a6c14a82aded9318",
            "8d44d97418f04f23a477863e515cc9b7",
            "ffe7cc80c99e4b25b7933871a4df0409",
            "f3dec245f2ef4741b3c8617c1aa1c37e",
            "f095ff92ae7f482fba5ddf33f070a039",
            "9da2d37d281c40508a315845ec7ef61c",
            "d80e9528428b41f794709110f2a20345",
            "a2d8bda182bb4f3bad20e198b70a2c75",
            "d36d40371b41402882e3180679833557",
            "027948b9c755406e93d9d7dfef4b715d",
            "2faf49bd43a64ff5b83ad01cf647ebd4",
            "4f55fb9d081648bb89f42eb03f22cf36",
            "9b20da7ac50448a2a202bb8407148e9a",
            "9afe1961d2a4447d866a440ea23b676a",
            "fb16671e904e41628abc3ebac61aef45",
            "1ef7789d9f284555ab05165808cbec55",
            "4cfc7f2e36514ce6b3ccc705d09535b9",
            "db0b6feefbf84c5d960b12ce7b41dbaa",
            "2b6b4d714f0145ba9091496b0400b4c8",
            "157b5c8e60e04f2e889bc6134a862af1",
            "5a832584c8754fb483e2460afc7bfb35",
            "c0e99065e3eb40e597a8e080a476cb4d",
            "6b51e894584a45bc878c96c34a4bc98a",
            "bb391a58452746db964a62c3f0617030",
            "17eed6772d25455db1b0a8fe0c6a530d",
            "eb4c14f6ba974efc8c5b818e5cb50821",
            "596d033ed1f1426f99125484be586ec8",
            "e5545f646e2f478abd7134429ccc4c59",
            "d15f3cb610e142abb15902c307153000"
          ]
        },
        "outputId": "898a522d-0feb-4d02-e7bb-34087f346026"
      },
      "execution_count": null,
      "outputs": [
        {
          "output_type": "stream",
          "name": "stderr",
          "text": [
            "Special tokens have been added in the vocabulary, make sure the associated word embeddings are fine-tuned or trained.\n",
            "/usr/local/lib/python3.10/dist-packages/huggingface_hub/utils/_token.py:88: UserWarning: \n",
            "The secret `HF_TOKEN` does not exist in your Colab secrets.\n",
            "To authenticate with the Hugging Face Hub, create a token in your settings tab (https://huggingface.co/settings/tokens), set it as secret in your Google Colab and restart your session.\n",
            "You will be able to reuse this secret in all of your notebooks.\n",
            "Please note that authentication is recommended but still optional to access public models or datasets.\n",
            "  warnings.warn(\n"
          ]
        },
        {
          "output_type": "display_data",
          "data": {
            "text/plain": [
              "config.json:   0%|          | 0.00/665 [00:00<?, ?B/s]"
            ],
            "application/vnd.jupyter.widget-view+json": {
              "version_major": 2,
              "version_minor": 0,
              "model_id": "07b55df3e2e0431a819de9cc0084cee5"
            }
          },
          "metadata": {}
        },
        {
          "output_type": "display_data",
          "data": {
            "text/plain": [
              "model.safetensors:   0%|          | 0.00/548M [00:00<?, ?B/s]"
            ],
            "application/vnd.jupyter.widget-view+json": {
              "version_major": 2,
              "version_minor": 0,
              "model_id": "a2d8bda182bb4f3bad20e198b70a2c75"
            }
          },
          "metadata": {}
        },
        {
          "output_type": "display_data",
          "data": {
            "text/plain": [
              "generation_config.json:   0%|          | 0.00/124 [00:00<?, ?B/s]"
            ],
            "application/vnd.jupyter.widget-view+json": {
              "version_major": 2,
              "version_minor": 0,
              "model_id": "2b6b4d714f0145ba9091496b0400b4c8"
            }
          },
          "metadata": {}
        }
      ]
    },
    {
      "cell_type": "code",
      "source": [
        "# data set class, implimenting __init__, __len__, __getitem__ for dataloader purposes\n",
        "class songsDataset:\n",
        "    def __init__(self, input_ids, attn_masks):\n",
        "        self.input_ids = input_ids\n",
        "        self.attn_masks = attn_masks\n",
        "\n",
        "    def __len__(self):\n",
        "        return len(self.input_ids)\n",
        "\n",
        "    def __getitem__(self, idx):\n",
        "        return torch.tensor(self.input_ids[idx], device=device), torch.tensor(self.attn_masks[idx], device=device)"
      ],
      "metadata": {
        "id": "Mc5IRI79fuZB"
      },
      "execution_count": null,
      "outputs": []
    },
    {
      "cell_type": "code",
      "source": [
        "# load input ids and attention masks\n",
        "input_ids = np.load(input_ids_path)\n",
        "attn_masks = np.load(attn_masks_path)\n",
        "\n",
        "print(f\"input_ids length : {len(input_ids)}\")\n",
        "print(f\"attn_masks length : {len(attn_masks)}\")\n",
        "\n",
        "# split into training and validation by using the same random state\n",
        "input_ids_train, input_ids_val = train_test_split(input_ids, test_size = 0.0005, random_state=123)\n",
        "attn_masks_train, attn_masks_val = train_test_split(attn_masks, test_size = 0.0005, random_state=123)\n",
        "\n",
        "# create instances of training and validation datasets\n",
        "dataset_train = songsDataset(input_ids_train, attn_masks_train)\n",
        "dataset_val = songsDataset(input_ids_val, attn_masks_val)\n",
        "\n",
        "print(\"len of train dataset:\", len(dataset_train))\n",
        "print(\"len of val dataset:\", len(dataset_val))"
      ],
      "metadata": {
        "id": "JaIe3_DvfuWj",
        "colab": {
          "base_uri": "https://localhost:8080/"
        },
        "outputId": "8ebb0b41-8255-4c9f-8ba5-c92a567beab0"
      },
      "execution_count": null,
      "outputs": [
        {
          "output_type": "stream",
          "name": "stdout",
          "text": [
            "input_ids length : 276986\n",
            "attn_masks length : 276986\n",
            "len of train dataset: 276847\n",
            "len of val dataset: 139\n"
          ]
        }
      ]
    },
    {
      "cell_type": "code",
      "source": [
        "# hyperparameters\n",
        "batch_size = 10\n",
        "learning_rate = 0.0001\n",
        "\n",
        "# number of epoch\n",
        "num_epochs = 1"
      ],
      "metadata": {
        "id": "k3o_HjE0fuUF"
      },
      "execution_count": null,
      "outputs": []
    },
    {
      "cell_type": "code",
      "source": [
        "# define dataloaders\n",
        "train_dataloader = DataLoader(dataset_train, batch_size = batch_size)\n",
        "validation_dataloader = DataLoader(dataset_val, batch_size = batch_size)"
      ],
      "metadata": {
        "id": "nmiTWnKRfuR1"
      },
      "execution_count": null,
      "outputs": []
    },
    {
      "cell_type": "code",
      "source": [
        "# validation loop function\n",
        "def validate_model(validation_loader, m):\n",
        "    total_val_loss = 0\n",
        "    val_steps = len(validation_dataloader)\n",
        "\n",
        "    # iterate over validation set\n",
        "    for ids, masks in validation_dataloader:\n",
        "        with torch.no_grad():  # disable gradients for validation\n",
        "            outputs = m(ids, attention_mask = masks, labels = ids)  # run model forward\n",
        "\n",
        "            loss = outputs[0]\n",
        "            batch_loss = loss.item()\n",
        "            total_val_loss += batch_loss\n",
        "    return total_val_loss / val_steps  # return average loss"
      ],
      "metadata": {
        "id": "l9ZRWZHQfuPP"
      },
      "execution_count": null,
      "outputs": []
    },
    {
      "cell_type": "code",
      "source": [
        "# training loop function\n",
        "def train_model(train_loader, validation_loader, m, num_e, lr):\n",
        "    epochs = range(num_e)\n",
        "    num_batches = len(train_loader)\n",
        "    # initialize lists of batch-step train and 1000-step validation losses\n",
        "    train_losses = []\n",
        "    validation_losses = []\n",
        "\n",
        "    # optimiser\n",
        "    optimizer = torch.optim.Adam(m.parameters(), lr=lr)\n",
        "\n",
        "    # training loop\n",
        "    for epoch in epochs:\n",
        "        print(f\"------------------- Epoch {epoch+1} / {num_e} -------------------\")\n",
        "        # iterate over train set\n",
        "        for i,(ids, masks) in enumerate(train_loader):\n",
        "            if i % 1000 == 0:\n",
        "                print(f\"Batch {i+1} / {num_batches}\")\n",
        "\n",
        "            model.train()  # training mode\n",
        "\n",
        "            m.zero_grad()\n",
        "\n",
        "            outputs = m(ids, attention_mask = masks, labels = ids)  # run model forward\n",
        "\n",
        "            loss = outputs[0]\n",
        "            batch_loss = loss.item()\n",
        "            train_losses.append(batch_loss)  # save batch-step training loss\n",
        "\n",
        "            loss.backward()  # optimize\n",
        "            optimizer.step()\n",
        "\n",
        "            if i%1000 == 0:\n",
        "                validation_losses.append(validate_model(validation_loader, m))  # save 1000-batch-step validation loss\n",
        "\n",
        "    return train_losses, validation_losses  # return training losses and validation losses"
      ],
      "metadata": {
        "id": "To0YS1gzfuMj"
      },
      "execution_count": null,
      "outputs": []
    },
    {
      "cell_type": "code",
      "source": [
        "time0 = time.time()\n",
        "\n",
        "# run full training\n",
        "train_losses, validation_losses = train_model(train_dataloader, validation_dataloader, model, num_epochs, learning_rate)\n",
        "\n",
        "print(f\"Train time: {time.time() - time0}\")"
      ],
      "metadata": {
        "id": "2IGb6zf5fuKN",
        "colab": {
          "base_uri": "https://localhost:8080/"
        },
        "outputId": "3d60e868-8efd-4e89-f688-2f24b4d6fe15"
      },
      "execution_count": null,
      "outputs": [
        {
          "output_type": "stream",
          "name": "stdout",
          "text": [
            "------------------- Epoch 1 / 1 -------------------\n",
            "Batch 1 / 27685\n",
            "Batch 1001 / 27685\n",
            "Batch 2001 / 27685\n",
            "Batch 3001 / 27685\n",
            "Batch 4001 / 27685\n",
            "Batch 5001 / 27685\n",
            "Batch 6001 / 27685\n",
            "Batch 7001 / 27685\n",
            "Batch 8001 / 27685\n",
            "Batch 9001 / 27685\n",
            "Batch 10001 / 27685\n",
            "Batch 11001 / 27685\n",
            "Batch 12001 / 27685\n",
            "Batch 13001 / 27685\n",
            "Batch 14001 / 27685\n",
            "Batch 15001 / 27685\n",
            "Batch 16001 / 27685\n",
            "Batch 17001 / 27685\n",
            "Batch 18001 / 27685\n",
            "Batch 19001 / 27685\n",
            "Batch 20001 / 27685\n",
            "Batch 21001 / 27685\n",
            "Batch 22001 / 27685\n",
            "Batch 23001 / 27685\n",
            "Batch 24001 / 27685\n",
            "Batch 25001 / 27685\n",
            "Batch 26001 / 27685\n",
            "Batch 27001 / 27685\n",
            "Train time: 32829.256705999374\n"
          ]
        }
      ]
    },
    {
      "cell_type": "code",
      "source": [
        "# save model to file\n",
        "model.save_pretrained(f'{path_out}')"
      ],
      "metadata": {
        "id": "plQKbDsDg9Jk"
      },
      "execution_count": null,
      "outputs": []
    },
    {
      "cell_type": "code",
      "source": [
        "print(len(train_losses))\n",
        "print(len(validation_losses))"
      ],
      "metadata": {
        "id": "aDyKdtOrg9FH",
        "colab": {
          "base_uri": "https://localhost:8080/"
        },
        "outputId": "52137619-6bcb-44a6-f38f-86da3825059a"
      },
      "execution_count": null,
      "outputs": [
        {
          "output_type": "stream",
          "name": "stdout",
          "text": [
            "27685\n",
            "28\n"
          ]
        }
      ]
    },
    {
      "cell_type": "code",
      "source": [
        "# create plots\n",
        "plt.figure(figsize=(15, 5))\n",
        "X_trains = range(int(len(train_losses)))\n",
        "X_valids = range(int(len(validation_losses)))\n",
        "\n",
        "plt.subplot(1, 2, 1)\n",
        "plt.plot(np.array(X_trains), np.array(train_losses))\n",
        "plt.xlabel(\"batch num\")\n",
        "plt.ylabel(\"loss\")\n",
        "plt.title(\"train loss\")\n",
        "\n",
        "plt.subplot(1, 2, 2)\n",
        "plt.plot(np.array(X_valids), np.array(validation_losses))\n",
        "plt.xlabel(\"batch num (in thousands)\")\n",
        "plt.ylabel(\"loss\")\n",
        "plt.title(\"validation loss\")\n",
        "\n",
        "plt.suptitle(f\"Network Training by Global Batch\", fontsize=16, fontweight='bold')\n",
        "plt.subplots_adjust(left=0.01, right=0.99, wspace=0.3)\n",
        "plt.show()"
      ],
      "metadata": {
        "id": "BtUpLA0tg9C1",
        "colab": {
          "base_uri": "https://localhost:8080/",
          "height": 351
        },
        "outputId": "243298fe-2d05-41b6-9f4d-8a7ef6137c10"
      },
      "execution_count": null,
      "outputs": [
        {
          "output_type": "display_data",
          "data": {
            "text/plain": [
              "<Figure size 1500x500 with 2 Axes>"
            ],
            "image/png": "[encoded data removed]"
          },
          "metadata": {}
        }
      ]
    },
    {
      "cell_type": "code",
      "source": [
        "# create plot -- first 100 batches, to show how the model learns in the first 100 batches\n",
        "plt.figure(figsize=(15, 5))\n",
        "X_trains = range(int(len(train_losses[0:100])))\n",
        "\n",
        "plt.plot(np.array(X_trains), np.array(train_losses[0:100]))\n",
        "plt.xlabel(\"batch num\")\n",
        "plt.ylabel(\"loss\")\n",
        "plt.title(\"train loss\")\n",
        "\n",
        "plt.suptitle(f\"Network Training by Global Batch, Batches 1-100\", fontsize=16, fontweight='bold')\n",
        "plt.subplots_adjust(left=0.01, right=0.99, wspace=0.3)\n",
        "plt.show()"
      ],
      "metadata": {
        "id": "QEGwlmIWg9Ao",
        "colab": {
          "base_uri": "https://localhost:8080/",
          "height": 351
        },
        "outputId": "bffa1c51-efcc-4b27-e919-eadf343f12a8"
      },
      "execution_count": null,
      "outputs": [
        {
          "output_type": "display_data",
          "data": {
            "text/plain": [
              "<Figure size 1500x500 with 1 Axes>"
            ],
            "image/png": "[encoded data removed]"
          },
          "metadata": {}
        }
      ]
    },
    {
      "cell_type": "code",
      "source": [
        "# create plot for validation set -- from the second batch (in thousands for validation), to show how the model learns over batches\n",
        "plt.figure(figsize=(15, 5))\n",
        "X_valids = range(int(len(validation_losses[1:-1])))\n",
        "\n",
        "plt.plot(np.array(X_valids), np.array(validation_losses[1:-1]))\n",
        "plt.xlabel(\"batch num (in thousands)\")\n",
        "plt.ylabel(\"loss\")\n",
        "plt.title(\"train loss\")\n",
        "\n",
        "plt.suptitle(f\"Network Validation by Global Batch, from Batch 1000\", fontsize=16, fontweight='bold')\n",
        "plt.subplots_adjust(left=0.01, right=0.99, wspace=0.3)\n",
        "plt.show()"
      ],
      "metadata": {
        "id": "-XNaftdYg8-P",
        "colab": {
          "base_uri": "https://localhost:8080/",
          "height": 347
        },
        "outputId": "4c925193-653b-4fb6-d012-95c0968507b5"
      },
      "execution_count": null,
      "outputs": [
        {
          "output_type": "display_data",
          "data": {
            "text/plain": [
              "<Figure size 1500x500 with 1 Axes>"
            ],
            "image/png": "[encoded data removed]"
          },
          "metadata": {}
        }
      ]
    }
  ]
}