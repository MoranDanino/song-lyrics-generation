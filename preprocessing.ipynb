{
  "nbformat": 4,
  "nbformat_minor": 0,
  "metadata": {
    "colab": {
      "provenance": [],
      "machine_shape": "hm"
    },
    "kernelspec": {
      "name": "python3",
      "display_name": "Python 3"
    },
    "language_info": {
      "name": "python"
    }
  },
  "cells": [
    {
      "cell_type": "markdown",
      "source": [
        "# Song Lyrics Generation By genre- Preprocessing #\n"
      ],
      "metadata": {
        "id": "Y9pKT7Kdumjl"
      }
    },
    {
      "cell_type": "markdown",
      "source": [
        "##preprocessing:\n"
      ],
      "metadata": {
        "id": "Lh2kAwymumWX"
      }
    },
    {
      "cell_type": "markdown",
      "source": [
        "imports:"
      ],
      "metadata": {
        "id": "v_k3lvABuyu7"
      }
    },
    {
      "cell_type": "code",
      "execution_count": null,
      "metadata": {
        "id": "149iSBHYXTG4"
      },
      "outputs": [],
      "source": [
        "import torch\n",
        "import pandas as pd\n",
        "from google.colab import drive\n",
        "import nltk\n",
        "import matplotlib.pyplot as plt\n",
        "import numpy as np\n",
        "import random\n",
        "import re\n",
        "\n",
        "\n",
        "random.seed(123)  # set seeds for consistancy\n",
        "np.random.seed(123)\n",
        "\n",
        "device = torch.device(\"cuda\" if torch.cuda.is_available() else \"cpu\")  # if using GPU"
      ]
    },
    {
      "cell_type": "markdown",
      "source": [
        "loading the data:"
      ],
      "metadata": {
        "id": "thxUeJV9uq48"
      }
    },
    {
      "cell_type": "code",
      "source": [
        "# mount drive\n",
        "drive.mount('/content/drive')\n",
        "\n",
        "# define path to folder - CHANGE TO WHICHEVER DIRECTORY YOU WANT\n",
        "path_folder = \"/content/drive/MyDrive/Deep_Learning_2024/project\"\n",
        "\n",
        "FILENAME = path_folder+'/ds.csv'"
      ],
      "metadata": {
        "colab": {
          "base_uri": "https://localhost:8080/"
        },
        "id": "iVqaSP49XWxI",
        "outputId": "5b68ff8b-5e39-473c-f55a-e18715fdeddd"
      },
      "execution_count": null,
      "outputs": [
        {
          "output_type": "stream",
          "name": "stdout",
          "text": [
            "Mounted at /content/drive\n"
          ]
        }
      ]
    },
    {
      "cell_type": "code",
      "source": [
        "#loading dataset:\n",
        "df = pd.read_csv(FILENAME)\n",
        "\n",
        "print(\"Dataset:\")\n",
        "print(\"Number of rows:\", len(df))\n",
        "print(\"Missing values:\")\n",
        "print(df.isnull().sum())"
      ],
      "metadata": {
        "colab": {
          "base_uri": "https://localhost:8080/"
        },
        "id": "FD9jqS9sXWub",
        "outputId": "3c98ec7f-fa53-4ada-eea2-e1c14476bf3b"
      },
      "execution_count": null,
      "outputs": [
        {
          "output_type": "stream",
          "name": "stdout",
          "text": [
            "Dataset:\n",
            "Number of rows: 5913411\n",
            "Missing values:\n",
            "title        452\n",
            "tag            0\n",
            "artist         0\n",
            "year           0\n",
            "views          0\n",
            "features       0\n",
            "lyrics      2345\n",
            "id             0\n",
            "dtype: int64\n"
          ]
        }
      ]
    },
    {
      "cell_type": "code",
      "source": [
        "print(\"Head of the dataset:\")\n",
        "print(df.head())"
      ],
      "metadata": {
        "colab": {
          "base_uri": "https://localhost:8080/"
        },
        "id": "N9kZc4kbXWsB",
        "outputId": "c8553052-883b-4fc0-ba79-d4648f72e7d8"
      },
      "execution_count": null,
      "outputs": [
        {
          "output_type": "stream",
          "name": "stdout",
          "text": [
            "Head of the dataset:\n",
            "               title  tag     artist  year   views  \\\n",
            "0          Killa Cam  rap    Cam'ron  2004  173166   \n",
            "1         Can I Live  rap      JAY-Z  1996  468624   \n",
            "2  Forgive Me Father  rap   Fabolous  2003    4743   \n",
            "3       Down and Out  rap    Cam'ron  2004  144404   \n",
            "4             Fly In  rap  Lil Wayne  2005   78271   \n",
            "\n",
            "                                       features  \\\n",
            "0                   {\"Cam\\\\'ron\",\"Opera Steve\"}   \n",
            "1                                            {}   \n",
            "2                                            {}   \n",
            "3  {\"Cam\\\\'ron\",\"Kanye West\",\"Syleena Johnson\"}   \n",
            "4                                            {}   \n",
            "\n",
            "                                              lyrics  id  \n",
            "0  [Chorus: Opera Steve & Cam'ron]\\nKilla Cam, Ki...   1  \n",
            "1  [Produced by Irv Gotti]\\n\\n[Intro]\\nYeah, hah,...   3  \n",
            "2  Maybe cause I'm eatin\\nAnd these bastards fien...   4  \n",
            "3  [Produced by Kanye West and Brian Miller]\\n\\n[...   5  \n",
            "4  [Intro]\\nSo they ask me\\n\"Young boy\\nWhat you ...   6  \n"
          ]
        }
      ]
    },
    {
      "cell_type": "markdown",
      "source": [
        "As we can see, we have missing values ​​on \"lyrics\" column, thus we need to clean them.\n",
        "Furthermore, we need only genre \"rap\" and \"pop\", thus we will clean other genres."
      ],
      "metadata": {
        "id": "DvtB6gcqu6U-"
      }
    },
    {
      "cell_type": "code",
      "source": [
        "# count the occurrences of each genre\n",
        "genre_counts = df['tag'].value_counts()\n",
        "\n",
        "# plot the distribution\n",
        "plt.figure(figsize=(8, 6))\n",
        "genre_counts.plot(kind='bar', color=['blue', 'green', 'red', 'purple', 'orange','black'])\n",
        "plt.title('Distribution of Genres')\n",
        "plt.xlabel('Genre')\n",
        "plt.ylabel('Count')\n",
        "plt.xticks(rotation=45)\n",
        "plt.show()"
      ],
      "metadata": {
        "colab": {
          "base_uri": "https://localhost:8080/",
          "height": 598
        },
        "id": "el9CGfEmXWpr",
        "outputId": "fcff2752-8a24-4b9a-fc1e-3bebfaaa718a"
      },
      "execution_count": null,
      "outputs": [
        {
          "output_type": "display_data",
          "data": {
            "text/plain": [
              "<Figure size 800x600 with 1 Axes>"
            ],
            "image/png": "[encoded data removed]"
          },
          "metadata": {}
        }
      ]
    },
    {
      "cell_type": "code",
      "source": [
        "# function that deletes words that are not in English (we saw a song in Hebrew, etc...)\n",
        "def Only_English(text):\n",
        "    # Check if the text contains only English characters\n",
        "    if isinstance(text, str):\n",
        "        return text.isascii()\n",
        "    else:\n",
        "        return False"
      ],
      "metadata": {
        "id": "Oo4zTx-1XWnd"
      },
      "execution_count": null,
      "outputs": []
    },
    {
      "cell_type": "code",
      "source": [
        "# cleaning empty data cells on \"lyrics\" column\n",
        "df = df.dropna(subset=['lyrics'])\n",
        "\n",
        "print(\"Missing values in dataset 2 after cleaning:\")\n",
        "print(df.isnull().sum())\n",
        "\n",
        "#print the size of the dataset after cleaning\n",
        "print(\"Number of rows: after cleaning:\", len(df))"
      ],
      "metadata": {
        "colab": {
          "base_uri": "https://localhost:8080/"
        },
        "id": "872K1pQiXWk-",
        "outputId": "102262a5-266d-4da3-eb8a-438ce2667403"
      },
      "execution_count": null,
      "outputs": [
        {
          "output_type": "stream",
          "name": "stdout",
          "text": [
            "Missing values in dataset 2 after cleaning:\n",
            "title       391\n",
            "tag           0\n",
            "artist        0\n",
            "year          0\n",
            "views         0\n",
            "features      0\n",
            "lyrics        0\n",
            "id            0\n",
            "dtype: int64\n",
            "Number of rows: after cleaning: 5911066\n"
          ]
        }
      ]
    },
    {
      "cell_type": "code",
      "source": [
        "#filter out rows with genres other than \"rap\" and \"pop\"\n",
        "df = df[df['tag'].isin(['rap', 'pop'])]\n",
        "\n",
        "print(\"\\nSize of Filtered Dataset:\", len(df))\n",
        "\n",
        "tags = df['tag'].unique()\n",
        "print(\"Unique values in the 'tag' column:\")\n",
        "print(tags)\n",
        "print(\"\\nNumber of unique values in the 'tag' column:\", len(tags))"
      ],
      "metadata": {
        "colab": {
          "base_uri": "https://localhost:8080/"
        },
        "id": "WYxpGmAGXWil",
        "outputId": "2ad23956-df37-48ae-ab78-3f81ba9c2955"
      },
      "execution_count": null,
      "outputs": [
        {
          "output_type": "stream",
          "name": "stdout",
          "text": [
            "\n",
            "Size of Filtered Dataset: 4480364\n",
            "Unique values in the 'tag' column:\n",
            "['rap' 'pop']\n",
            "\n",
            "Number of unique values in the 'tag' column: 2\n"
          ]
        }
      ]
    },
    {
      "cell_type": "code",
      "source": [
        "#keep only the columns that match the first Dataset\n",
        "columns_to_keep = ['tag', 'lyrics']\n",
        "\n",
        "# Drop columns except 'tag' and 'lyrics'\n",
        "df = df[columns_to_keep]\n",
        "\n",
        "df.reset_index(drop=True, inplace=True)\n",
        "\n",
        "# Show the resulting dataset\n",
        "print(\"Dataset after removing columns except 'tag' and 'lyrics':\")\n",
        "print(df.head())"
      ],
      "metadata": {
        "colab": {
          "base_uri": "https://localhost:8080/"
        },
        "id": "42valYTrXWgL",
        "outputId": "b8e21b52-7b22-4dd9-ac90-07ab5951c3b0"
      },
      "execution_count": null,
      "outputs": [
        {
          "output_type": "stream",
          "name": "stdout",
          "text": [
            "Dataset after removing columns except 'tag' and 'lyrics':\n",
            "   tag                                             lyrics\n",
            "0  rap  [Chorus: Opera Steve & Cam'ron]\\nKilla Cam, Ki...\n",
            "1  rap  [Produced by Irv Gotti]\\n\\n[Intro]\\nYeah, hah,...\n",
            "2  rap  Maybe cause I'm eatin\\nAnd these bastards fien...\n",
            "3  rap  [Produced by Kanye West and Brian Miller]\\n\\n[...\n",
            "4  rap  [Intro]\\nSo they ask me\\n\"Young boy\\nWhat you ...\n"
          ]
        }
      ]
    },
    {
      "cell_type": "code",
      "source": [
        "# rename'lyrics' column to 'lyric'\n",
        "df.rename(columns={'lyrics': 'lyric'}, inplace=True)\n",
        "\n",
        "# replace 'tag' column to 'class' with numeric values- 0/1: rap=0, pop=1.\n",
        "df['class'] = df['tag'].apply(lambda x: 1 if x == 'pop' else 0)"
      ],
      "metadata": {
        "id": "ULgihZnOXWds",
        "colab": {
          "base_uri": "https://localhost:8080/"
        },
        "outputId": "fa07c932-5181-43ea-e1a5-af619a342d13"
      },
      "execution_count": null,
      "outputs": [
        {
          "output_type": "stream",
          "name": "stderr",
          "text": [
            "<ipython-input-10-12162df32863>:2: SettingWithCopyWarning: \n",
            "A value is trying to be set on a copy of a slice from a DataFrame\n",
            "\n",
            "See the caveats in the documentation: https://pandas.pydata.org/pandas-docs/stable/user_guide/indexing.html#returning-a-view-versus-a-copy\n",
            "  df.rename(columns={'lyrics': 'lyric'}, inplace=True)\n"
          ]
        }
      ]
    },
    {
      "cell_type": "code",
      "source": [
        "#drop the 'tag' column\n",
        "df.drop(columns=['tag'], inplace=True)\n",
        "\n",
        "print(df.head())\n",
        "print(\"The updated dataset:\", len(df))"
      ],
      "metadata": {
        "colab": {
          "base_uri": "https://localhost:8080/"
        },
        "id": "kYvu_8OhXWbh",
        "outputId": "9843165b-3383-469c-868e-6263412f3330"
      },
      "execution_count": null,
      "outputs": [
        {
          "output_type": "stream",
          "name": "stdout",
          "text": [
            "                                               lyric  class\n",
            "0  [Chorus: Opera Steve & Cam'ron]\\nKilla Cam, Ki...      0\n",
            "1  [Produced by Irv Gotti]\\n\\n[Intro]\\nYeah, hah,...      0\n",
            "2  Maybe cause I'm eatin\\nAnd these bastards fien...      0\n",
            "3  [Produced by Kanye West and Brian Miller]\\n\\n[...      0\n",
            "4  [Intro]\\nSo they ask me\\n\"Young boy\\nWhat you ...      0\n",
            "The updated dataset: 4480364\n"
          ]
        }
      ]
    },
    {
      "cell_type": "code",
      "source": [
        "def cleaning_specific_data(lyrics):\n",
        "    non_lyrical_keywords = ['instrumental', 'loading...', 'save cancel'] # specific keywords indicating non-lyrical content\n",
        "\n",
        "    # checking if any of the non-lyrical keywords in the lyrics\n",
        "    for keyword in non_lyrical_keywords:\n",
        "        if keyword in lyrics.lower(): # convert lyrics to lowercase for case-insensitive matching\n",
        "            return None # return None because the song should be deleted\n",
        "\n",
        "    # none of the non-lyrical keywords are found, return the lyrics\n",
        "    return lyrics\n"
      ],
      "metadata": {
        "id": "XM0-Y6VcXWZH"
      },
      "execution_count": null,
      "outputs": []
    },
    {
      "cell_type": "code",
      "source": [
        "def cleaning_specific_data2(lyrics):\n",
        "  lyrics = re.sub(r'\\[[^\\]]*\\]|\\([^\\)]*\\)|\\{[^}]*\\}', '', lyrics) # remove (){}[] and words between\n",
        "  lyrics = re.sub(r'[{}()\\[\\]<>]', '', lyrics) # remove stand alone (,),{,},[,]\n",
        "  lyrics = re.sub(r'http\\S+', '', lyrics) # remove links\n",
        "  lyrics = re.sub(r'@\\w*', '', lyrics) # remove @user\n",
        "  lyrics = re.sub(r'#\\w*', '', lyrics) # remove #hashtag\n",
        "  lyrics = re.sub(r'\\d+', '', lyrics) # remove numbers\n",
        "  lyrics = re.sub(r'[*\\-+=]', '', lyrics) # remove *, -, +, =\n",
        "\n",
        "  return lyrics"
      ],
      "metadata": {
        "id": "iIiPLd1JXWWg"
      },
      "execution_count": null,
      "outputs": []
    },
    {
      "cell_type": "code",
      "source": [
        "df.head() #before cleaning [],(),{}..."
      ],
      "metadata": {
        "colab": {
          "base_uri": "https://localhost:8080/",
          "height": 206
        },
        "id": "BN2UnvNIXWTV",
        "outputId": "4b3cefb5-7c63-43cb-fa2f-102d148c53a3"
      },
      "execution_count": null,
      "outputs": [
        {
          "output_type": "execute_result",
          "data": {
            "text/plain": [
              "                                               lyric  class\n",
              "0  [Chorus: Opera Steve & Cam'ron]\\nKilla Cam, Ki...      0\n",
              "1  [Produced by Irv Gotti]\\n\\n[Intro]\\nYeah, hah,...      0\n",
              "2  Maybe cause I'm eatin\\nAnd these bastards fien...      0\n",
              "3  [Produced by Kanye West and Brian Miller]\\n\\n[...      0\n",
              "4  [Intro]\\nSo they ask me\\n\"Young boy\\nWhat you ...      0"
            ],
            "text/html": [
              "\n",
              "  <div id=\"df-12489b9d-ec03-4d04-b304-8461a7c3caa3\" class=\"colab-df-container\">\n",
              "    <div>\n",
              "<style scoped>\n",
              "    .dataframe tbody tr th:only-of-type {\n",
              "        vertical-align: middle;\n",
              "    }\n",
              "\n",
              "    .dataframe tbody tr th {\n",
              "        vertical-align: top;\n",
              "    }\n",
              "\n",
              "    .dataframe thead th {\n",
              "        text-align: right;\n",
              "    }\n",
              "</style>\n",
              "<table border=\"1\" class=\"dataframe\">\n",
              "  <thead>\n",
              "    <tr style=\"text-align: right;\">\n",
              "      <th></th>\n",
              "      <th>lyric</th>\n",
              "      <th>class</th>\n",
              "    </tr>\n",
              "  </thead>\n",
              "  <tbody>\n",
              "    <tr>\n",
              "      <th>0</th>\n",
              "      <td>[Chorus: Opera Steve &amp; Cam'ron]\\nKilla Cam, Ki...</td>\n",
              "      <td>0</td>\n",
              "    </tr>\n",
              "    <tr>\n",
              "      <th>1</th>\n",
              "      <td>[Produced by Irv Gotti]\\n\\n[Intro]\\nYeah, hah,...</td>\n",
              "      <td>0</td>\n",
              "    </tr>\n",
              "    <tr>\n",
              "      <th>2</th>\n",
              "      <td>Maybe cause I'm eatin\\nAnd these bastards fien...</td>\n",
              "      <td>0</td>\n",
              "    </tr>\n",
              "    <tr>\n",
              "      <th>3</th>\n",
              "      <td>[Produced by Kanye West and Brian Miller]\\n\\n[...</td>\n",
              "      <td>0</td>\n",
              "    </tr>\n",
              "    <tr>\n",
              "      <th>4</th>\n",
              "      <td>[Intro]\\nSo they ask me\\n\"Young boy\\nWhat you ...</td>\n",
              "      <td>0</td>\n",
              "    </tr>\n",
              "  </tbody>\n",
              "</table>\n",
              "</div>\n",
              "    <div class=\"colab-df-buttons\">\n",
              "\n",
              "  <div class=\"colab-df-container\">\n",
              "    <button class=\"colab-df-convert\" onclick=\"convertToInteractive('df-12489b9d-ec03-4d04-b304-8461a7c3caa3')\"\n",
              "            title=\"Convert this dataframe to an interactive table.\"\n",
              "            style=\"display:none;\">\n",
              "\n",
              "  <svg xmlns=\"http://www.w3.org/2000/svg\" height=\"24px\" viewBox=\"0 -960 960 960\">\n",
              "    <path d=\"M120-120v-720h720v720H120Zm60-500h600v-160H180v160Zm220 220h160v-160H400v160Zm0 220h160v-160H400v160ZM180-400h160v-160H180v160Zm440 0h160v-160H620v160ZM180-180h160v-160H180v160Zm440 0h160v-160H620v160Z\"/>\n",
              "  </svg>\n",
              "    </button>\n",
              "\n",
              "  <style>\n",
              "    .colab-df-container {\n",
              "      display:flex;\n",
              "      gap: 12px;\n",
              "    }\n",
              "\n",
              "    .colab-df-convert {\n",
              "      background-color: #E8F0FE;\n",
              "      border: none;\n",
              "      border-radius: 50%;\n",
              "      cursor: pointer;\n",
              "      display: none;\n",
              "      fill: #1967D2;\n",
              "      height: 32px;\n",
              "      padding: 0 0 0 0;\n",
              "      width: 32px;\n",
              "    }\n",
              "\n",
              "    .colab-df-convert:hover {\n",
              "      background-color: #E2EBFA;\n",
              "      box-shadow: 0px 1px 2px rgba(60, 64, 67, 0.3), 0px 1px 3px 1px rgba(60, 64, 67, 0.15);\n",
              "      fill: #174EA6;\n",
              "    }\n",
              "\n",
              "    .colab-df-buttons div {\n",
              "      margin-bottom: 4px;\n",
              "    }\n",
              "\n",
              "    [theme=dark] .colab-df-convert {\n",
              "      background-color: #3B4455;\n",
              "      fill: #D2E3FC;\n",
              "    }\n",
              "\n",
              "    [theme=dark] .colab-df-convert:hover {\n",
              "      background-color: #434B5C;\n",
              "      box-shadow: 0px 1px 3px 1px rgba(0, 0, 0, 0.15);\n",
              "      filter: drop-shadow(0px 1px 2px rgba(0, 0, 0, 0.3));\n",
              "      fill: #FFFFFF;\n",
              "    }\n",
              "  </style>\n",
              "\n",
              "    <script>\n",
              "      const buttonEl =\n",
              "        document.querySelector('#df-12489b9d-ec03-4d04-b304-8461a7c3caa3 button.colab-df-convert');\n",
              "      buttonEl.style.display =\n",
              "        google.colab.kernel.accessAllowed ? 'block' : 'none';\n",
              "\n",
              "      async function convertToInteractive(key) {\n",
              "        const element = document.querySelector('#df-12489b9d-ec03-4d04-b304-8461a7c3caa3');\n",
              "        const dataTable =\n",
              "          await google.colab.kernel.invokeFunction('convertToInteractive',\n",
              "                                                    [key], {});\n",
              "        if (!dataTable) return;\n",
              "\n",
              "        const docLinkHtml = 'Like what you see? Visit the ' +\n",
              "          '<a target=\"_blank\" href=https://colab.research.google.com/notebooks/data_table.ipynb>data table notebook</a>'\n",
              "          + ' to learn more about interactive tables.';\n",
              "        element.innerHTML = '';\n",
              "        dataTable['output_type'] = 'display_data';\n",
              "        await google.colab.output.renderOutput(dataTable, element);\n",
              "        const docLink = document.createElement('div');\n",
              "        docLink.innerHTML = docLinkHtml;\n",
              "        element.appendChild(docLink);\n",
              "      }\n",
              "    </script>\n",
              "  </div>\n",
              "\n",
              "\n",
              "<div id=\"df-9cbc11a0-8db1-47ce-b1df-69c1dca59d07\">\n",
              "  <button class=\"colab-df-quickchart\" onclick=\"quickchart('df-9cbc11a0-8db1-47ce-b1df-69c1dca59d07')\"\n",
              "            title=\"Suggest charts\"\n",
              "            style=\"display:none;\">\n",
              "\n",
              "<svg xmlns=\"http://www.w3.org/2000/svg\" height=\"24px\"viewBox=\"0 0 24 24\"\n",
              "     width=\"24px\">\n",
              "    <g>\n",
              "        <path d=\"M19 3H5c-1.1 0-2 .9-2 2v14c0 1.1.9 2 2 2h14c1.1 0 2-.9 2-2V5c0-1.1-.9-2-2-2zM9 17H7v-7h2v7zm4 0h-2V7h2v10zm4 0h-2v-4h2v4z\"/>\n",
              "    </g>\n",
              "</svg>\n",
              "  </button>\n",
              "\n",
              "<style>\n",
              "  .colab-df-quickchart {\n",
              "      --bg-color: #E8F0FE;\n",
              "      --fill-color: #1967D2;\n",
              "      --hover-bg-color: #E2EBFA;\n",
              "      --hover-fill-color: #174EA6;\n",
              "      --disabled-fill-color: #AAA;\n",
              "      --disabled-bg-color: #DDD;\n",
              "  }\n",
              "\n",
              "  [theme=dark] .colab-df-quickchart {\n",
              "      --bg-color: #3B4455;\n",
              "      --fill-color: #D2E3FC;\n",
              "      --hover-bg-color: #434B5C;\n",
              "      --hover-fill-color: #FFFFFF;\n",
              "      --disabled-bg-color: #3B4455;\n",
              "      --disabled-fill-color: #666;\n",
              "  }\n",
              "\n",
              "  .colab-df-quickchart {\n",
              "    background-color: var(--bg-color);\n",
              "    border: none;\n",
              "    border-radius: 50%;\n",
              "    cursor: pointer;\n",
              "    display: none;\n",
              "    fill: var(--fill-color);\n",
              "    height: 32px;\n",
              "    padding: 0;\n",
              "    width: 32px;\n",
              "  }\n",
              "\n",
              "  .colab-df-quickchart:hover {\n",
              "    background-color: var(--hover-bg-color);\n",
              "    box-shadow: 0 1px 2px rgba(60, 64, 67, 0.3), 0 1px 3px 1px rgba(60, 64, 67, 0.15);\n",
              "    fill: var(--button-hover-fill-color);\n",
              "  }\n",
              "\n",
              "  .colab-df-quickchart-complete:disabled,\n",
              "  .colab-df-quickchart-complete:disabled:hover {\n",
              "    background-color: var(--disabled-bg-color);\n",
              "    fill: var(--disabled-fill-color);\n",
              "    box-shadow: none;\n",
              "  }\n",
              "\n",
              "  .colab-df-spinner {\n",
              "    border: 2px solid var(--fill-color);\n",
              "    border-color: transparent;\n",
              "    border-bottom-color: var(--fill-color);\n",
              "    animation:\n",
              "      spin 1s steps(1) infinite;\n",
              "  }\n",
              "\n",
              "  @keyframes spin {\n",
              "    0% {\n",
              "      border-color: transparent;\n",
              "      border-bottom-color: var(--fill-color);\n",
              "      border-left-color: var(--fill-color);\n",
              "    }\n",
              "    20% {\n",
              "      border-color: transparent;\n",
              "      border-left-color: var(--fill-color);\n",
              "      border-top-color: var(--fill-color);\n",
              "    }\n",
              "    30% {\n",
              "      border-color: transparent;\n",
              "      border-left-color: var(--fill-color);\n",
              "      border-top-color: var(--fill-color);\n",
              "      border-right-color: var(--fill-color);\n",
              "    }\n",
              "    40% {\n",
              "      border-color: transparent;\n",
              "      border-right-color: var(--fill-color);\n",
              "      border-top-color: var(--fill-color);\n",
              "    }\n",
              "    60% {\n",
              "      border-color: transparent;\n",
              "      border-right-color: var(--fill-color);\n",
              "    }\n",
              "    80% {\n",
              "      border-color: transparent;\n",
              "      border-right-color: var(--fill-color);\n",
              "      border-bottom-color: var(--fill-color);\n",
              "    }\n",
              "    90% {\n",
              "      border-color: transparent;\n",
              "      border-bottom-color: var(--fill-color);\n",
              "    }\n",
              "  }\n",
              "</style>\n",
              "\n",
              "  <script>\n",
              "    async function quickchart(key) {\n",
              "      const quickchartButtonEl =\n",
              "        document.querySelector('#' + key + ' button');\n",
              "      quickchartButtonEl.disabled = true;  // To prevent multiple clicks.\n",
              "      quickchartButtonEl.classList.add('colab-df-spinner');\n",
              "      try {\n",
              "        const charts = await google.colab.kernel.invokeFunction(\n",
              "            'suggestCharts', [key], {});\n",
              "      } catch (error) {\n",
              "        console.error('Error during call to suggestCharts:', error);\n",
              "      }\n",
              "      quickchartButtonEl.classList.remove('colab-df-spinner');\n",
              "      quickchartButtonEl.classList.add('colab-df-quickchart-complete');\n",
              "    }\n",
              "    (() => {\n",
              "      let quickchartButtonEl =\n",
              "        document.querySelector('#df-9cbc11a0-8db1-47ce-b1df-69c1dca59d07 button');\n",
              "      quickchartButtonEl.style.display =\n",
              "        google.colab.kernel.accessAllowed ? 'block' : 'none';\n",
              "    })();\n",
              "  </script>\n",
              "</div>\n",
              "\n",
              "    </div>\n",
              "  </div>\n"
            ],
            "application/vnd.google.colaboratory.intrinsic+json": {
              "type": "dataframe",
              "variable_name": "df"
            }
          },
          "metadata": {},
          "execution_count": 14
        }
      ]
    },
    {
      "cell_type": "code",
      "source": [
        "for i, row in df.iterrows():\n",
        "  orig = row['lyric']\n",
        "  clean_line = cleaning_specific_data2(orig)\n",
        "  df.at[i,'lyric'] = clean_line"
      ],
      "metadata": {
        "id": "2WKKnewnXWQs"
      },
      "execution_count": null,
      "outputs": []
    },
    {
      "cell_type": "code",
      "source": [
        "df.head() # after the cleaning"
      ],
      "metadata": {
        "colab": {
          "base_uri": "https://localhost:8080/",
          "height": 206
        },
        "id": "lIlRv0iDXsh9",
        "outputId": "b91cbb5d-e5d0-4828-a649-139f70a7609f"
      },
      "execution_count": null,
      "outputs": [
        {
          "output_type": "execute_result",
          "data": {
            "text/plain": [
              "                                               lyric  class\n",
              "0  \\nKilla Cam, Killa Cam, Cam\\nKilla Cam, Killa ...      0\n",
              "1  \\n\\n\\nYeah, hah, yeah, RocAFella\\nWe invite yo...      0\n",
              "2  Maybe cause I'm eatin\\nAnd these bastards fien...      0\n",
              "3  \\n\\n\\nUgh, Killa!\\nBaby!\\nKanye, this that s H...      0\n",
              "4  \\nSo they ask me\\n\"Young boy\\nWhat you gon' do...      0"
            ],
            "text/html": [
              "\n",
              "  <div id=\"df-8c0f7fd7-e364-4fc8-bd9a-4d558a048471\" class=\"colab-df-container\">\n",
              "    <div>\n",
              "<style scoped>\n",
              "    .dataframe tbody tr th:only-of-type {\n",
              "        vertical-align: middle;\n",
              "    }\n",
              "\n",
              "    .dataframe tbody tr th {\n",
              "        vertical-align: top;\n",
              "    }\n",
              "\n",
              "    .dataframe thead th {\n",
              "        text-align: right;\n",
              "    }\n",
              "</style>\n",
              "<table border=\"1\" class=\"dataframe\">\n",
              "  <thead>\n",
              "    <tr style=\"text-align: right;\">\n",
              "      <th></th>\n",
              "      <th>lyric</th>\n",
              "      <th>class</th>\n",
              "    </tr>\n",
              "  </thead>\n",
              "  <tbody>\n",
              "    <tr>\n",
              "      <th>0</th>\n",
              "      <td>\\nKilla Cam, Killa Cam, Cam\\nKilla Cam, Killa ...</td>\n",
              "      <td>0</td>\n",
              "    </tr>\n",
              "    <tr>\n",
              "      <th>1</th>\n",
              "      <td>\\n\\n\\nYeah, hah, yeah, RocAFella\\nWe invite yo...</td>\n",
              "      <td>0</td>\n",
              "    </tr>\n",
              "    <tr>\n",
              "      <th>2</th>\n",
              "      <td>Maybe cause I'm eatin\\nAnd these bastards fien...</td>\n",
              "      <td>0</td>\n",
              "    </tr>\n",
              "    <tr>\n",
              "      <th>3</th>\n",
              "      <td>\\n\\n\\nUgh, Killa!\\nBaby!\\nKanye, this that s H...</td>\n",
              "      <td>0</td>\n",
              "    </tr>\n",
              "    <tr>\n",
              "      <th>4</th>\n",
              "      <td>\\nSo they ask me\\n\"Young boy\\nWhat you gon' do...</td>\n",
              "      <td>0</td>\n",
              "    </tr>\n",
              "  </tbody>\n",
              "</table>\n",
              "</div>\n",
              "    <div class=\"colab-df-buttons\">\n",
              "\n",
              "  <div class=\"colab-df-container\">\n",
              "    <button class=\"colab-df-convert\" onclick=\"convertToInteractive('df-8c0f7fd7-e364-4fc8-bd9a-4d558a048471')\"\n",
              "            title=\"Convert this dataframe to an interactive table.\"\n",
              "            style=\"display:none;\">\n",
              "\n",
              "  <svg xmlns=\"http://www.w3.org/2000/svg\" height=\"24px\" viewBox=\"0 -960 960 960\">\n",
              "    <path d=\"M120-120v-720h720v720H120Zm60-500h600v-160H180v160Zm220 220h160v-160H400v160Zm0 220h160v-160H400v160ZM180-400h160v-160H180v160Zm440 0h160v-160H620v160ZM180-180h160v-160H180v160Zm440 0h160v-160H620v160Z\"/>\n",
              "  </svg>\n",
              "    </button>\n",
              "\n",
              "  <style>\n",
              "    .colab-df-container {\n",
              "      display:flex;\n",
              "      gap: 12px;\n",
              "    }\n",
              "\n",
              "    .colab-df-convert {\n",
              "      background-color: #E8F0FE;\n",
              "      border: none;\n",
              "      border-radius: 50%;\n",
              "      cursor: pointer;\n",
              "      display: none;\n",
              "      fill: #1967D2;\n",
              "      height: 32px;\n",
              "      padding: 0 0 0 0;\n",
              "      width: 32px;\n",
              "    }\n",
              "\n",
              "    .colab-df-convert:hover {\n",
              "      background-color: #E2EBFA;\n",
              "      box-shadow: 0px 1px 2px rgba(60, 64, 67, 0.3), 0px 1px 3px 1px rgba(60, 64, 67, 0.15);\n",
              "      fill: #174EA6;\n",
              "    }\n",
              "\n",
              "    .colab-df-buttons div {\n",
              "      margin-bottom: 4px;\n",
              "    }\n",
              "\n",
              "    [theme=dark] .colab-df-convert {\n",
              "      background-color: #3B4455;\n",
              "      fill: #D2E3FC;\n",
              "    }\n",
              "\n",
              "    [theme=dark] .colab-df-convert:hover {\n",
              "      background-color: #434B5C;\n",
              "      box-shadow: 0px 1px 3px 1px rgba(0, 0, 0, 0.15);\n",
              "      filter: drop-shadow(0px 1px 2px rgba(0, 0, 0, 0.3));\n",
              "      fill: #FFFFFF;\n",
              "    }\n",
              "  </style>\n",
              "\n",
              "    <script>\n",
              "      const buttonEl =\n",
              "        document.querySelector('#df-8c0f7fd7-e364-4fc8-bd9a-4d558a048471 button.colab-df-convert');\n",
              "      buttonEl.style.display =\n",
              "        google.colab.kernel.accessAllowed ? 'block' : 'none';\n",
              "\n",
              "      async function convertToInteractive(key) {\n",
              "        const element = document.querySelector('#df-8c0f7fd7-e364-4fc8-bd9a-4d558a048471');\n",
              "        const dataTable =\n",
              "          await google.colab.kernel.invokeFunction('convertToInteractive',\n",
              "                                                    [key], {});\n",
              "        if (!dataTable) return;\n",
              "\n",
              "        const docLinkHtml = 'Like what you see? Visit the ' +\n",
              "          '<a target=\"_blank\" href=https://colab.research.google.com/notebooks/data_table.ipynb>data table notebook</a>'\n",
              "          + ' to learn more about interactive tables.';\n",
              "        element.innerHTML = '';\n",
              "        dataTable['output_type'] = 'display_data';\n",
              "        await google.colab.output.renderOutput(dataTable, element);\n",
              "        const docLink = document.createElement('div');\n",
              "        docLink.innerHTML = docLinkHtml;\n",
              "        element.appendChild(docLink);\n",
              "      }\n",
              "    </script>\n",
              "  </div>\n",
              "\n",
              "\n",
              "<div id=\"df-f97b431d-f385-47a8-8c17-2997e97739c7\">\n",
              "  <button class=\"colab-df-quickchart\" onclick=\"quickchart('df-f97b431d-f385-47a8-8c17-2997e97739c7')\"\n",
              "            title=\"Suggest charts\"\n",
              "            style=\"display:none;\">\n",
              "\n",
              "<svg xmlns=\"http://www.w3.org/2000/svg\" height=\"24px\"viewBox=\"0 0 24 24\"\n",
              "     width=\"24px\">\n",
              "    <g>\n",
              "        <path d=\"M19 3H5c-1.1 0-2 .9-2 2v14c0 1.1.9 2 2 2h14c1.1 0 2-.9 2-2V5c0-1.1-.9-2-2-2zM9 17H7v-7h2v7zm4 0h-2V7h2v10zm4 0h-2v-4h2v4z\"/>\n",
              "    </g>\n",
              "</svg>\n",
              "  </button>\n",
              "\n",
              "<style>\n",
              "  .colab-df-quickchart {\n",
              "      --bg-color: #E8F0FE;\n",
              "      --fill-color: #1967D2;\n",
              "      --hover-bg-color: #E2EBFA;\n",
              "      --hover-fill-color: #174EA6;\n",
              "      --disabled-fill-color: #AAA;\n",
              "      --disabled-bg-color: #DDD;\n",
              "  }\n",
              "\n",
              "  [theme=dark] .colab-df-quickchart {\n",
              "      --bg-color: #3B4455;\n",
              "      --fill-color: #D2E3FC;\n",
              "      --hover-bg-color: #434B5C;\n",
              "      --hover-fill-color: #FFFFFF;\n",
              "      --disabled-bg-color: #3B4455;\n",
              "      --disabled-fill-color: #666;\n",
              "  }\n",
              "\n",
              "  .colab-df-quickchart {\n",
              "    background-color: var(--bg-color);\n",
              "    border: none;\n",
              "    border-radius: 50%;\n",
              "    cursor: pointer;\n",
              "    display: none;\n",
              "    fill: var(--fill-color);\n",
              "    height: 32px;\n",
              "    padding: 0;\n",
              "    width: 32px;\n",
              "  }\n",
              "\n",
              "  .colab-df-quickchart:hover {\n",
              "    background-color: var(--hover-bg-color);\n",
              "    box-shadow: 0 1px 2px rgba(60, 64, 67, 0.3), 0 1px 3px 1px rgba(60, 64, 67, 0.15);\n",
              "    fill: var(--button-hover-fill-color);\n",
              "  }\n",
              "\n",
              "  .colab-df-quickchart-complete:disabled,\n",
              "  .colab-df-quickchart-complete:disabled:hover {\n",
              "    background-color: var(--disabled-bg-color);\n",
              "    fill: var(--disabled-fill-color);\n",
              "    box-shadow: none;\n",
              "  }\n",
              "\n",
              "  .colab-df-spinner {\n",
              "    border: 2px solid var(--fill-color);\n",
              "    border-color: transparent;\n",
              "    border-bottom-color: var(--fill-color);\n",
              "    animation:\n",
              "      spin 1s steps(1) infinite;\n",
              "  }\n",
              "\n",
              "  @keyframes spin {\n",
              "    0% {\n",
              "      border-color: transparent;\n",
              "      border-bottom-color: var(--fill-color);\n",
              "      border-left-color: var(--fill-color);\n",
              "    }\n",
              "    20% {\n",
              "      border-color: transparent;\n",
              "      border-left-color: var(--fill-color);\n",
              "      border-top-color: var(--fill-color);\n",
              "    }\n",
              "    30% {\n",
              "      border-color: transparent;\n",
              "      border-left-color: var(--fill-color);\n",
              "      border-top-color: var(--fill-color);\n",
              "      border-right-color: var(--fill-color);\n",
              "    }\n",
              "    40% {\n",
              "      border-color: transparent;\n",
              "      border-right-color: var(--fill-color);\n",
              "      border-top-color: var(--fill-color);\n",
              "    }\n",
              "    60% {\n",
              "      border-color: transparent;\n",
              "      border-right-color: var(--fill-color);\n",
              "    }\n",
              "    80% {\n",
              "      border-color: transparent;\n",
              "      border-right-color: var(--fill-color);\n",
              "      border-bottom-color: var(--fill-color);\n",
              "    }\n",
              "    90% {\n",
              "      border-color: transparent;\n",
              "      border-bottom-color: var(--fill-color);\n",
              "    }\n",
              "  }\n",
              "</style>\n",
              "\n",
              "  <script>\n",
              "    async function quickchart(key) {\n",
              "      const quickchartButtonEl =\n",
              "        document.querySelector('#' + key + ' button');\n",
              "      quickchartButtonEl.disabled = true;  // To prevent multiple clicks.\n",
              "      quickchartButtonEl.classList.add('colab-df-spinner');\n",
              "      try {\n",
              "        const charts = await google.colab.kernel.invokeFunction(\n",
              "            'suggestCharts', [key], {});\n",
              "      } catch (error) {\n",
              "        console.error('Error during call to suggestCharts:', error);\n",
              "      }\n",
              "      quickchartButtonEl.classList.remove('colab-df-spinner');\n",
              "      quickchartButtonEl.classList.add('colab-df-quickchart-complete');\n",
              "    }\n",
              "    (() => {\n",
              "      let quickchartButtonEl =\n",
              "        document.querySelector('#df-f97b431d-f385-47a8-8c17-2997e97739c7 button');\n",
              "      quickchartButtonEl.style.display =\n",
              "        google.colab.kernel.accessAllowed ? 'block' : 'none';\n",
              "    })();\n",
              "  </script>\n",
              "</div>\n",
              "\n",
              "    </div>\n",
              "  </div>\n"
            ],
            "application/vnd.google.colaboratory.intrinsic+json": {
              "type": "dataframe",
              "variable_name": "df"
            }
          },
          "metadata": {},
          "execution_count": 16
        }
      ]
    },
    {
      "cell_type": "code",
      "source": [
        "# filter out non-English lyrics of dataset:\n",
        "df = df[df['lyric'].apply(Only_English)].reset_index(drop=True)\n",
        "\n",
        "print(\"Size of dataset after filtering non-English lyrics:\", len(df))"
      ],
      "metadata": {
        "colab": {
          "base_uri": "https://localhost:8080/"
        },
        "id": "-eRomMp4Xsfn",
        "outputId": "83fc5e16-d6e0-4e61-bfcf-5e838b9d260d"
      },
      "execution_count": null,
      "outputs": [
        {
          "output_type": "stream",
          "name": "stdout",
          "text": [
            "Size of dataset after filtering non-English lyrics: 2099797\n"
          ]
        }
      ]
    },
    {
      "cell_type": "code",
      "source": [
        "# cheking the model\n",
        "\n",
        "df_rap = df[df['class'] == 0]\n",
        "df_pop = df[df['class'] == 1]\n",
        "\n",
        "print(\"Size of df_rap:\", len(df_rap))\n",
        "print(\"Size of df_pop:\", len(df_pop))\n",
        "\n",
        "print(df_rap.head())\n",
        "print(df_pop.head())"
      ],
      "metadata": {
        "colab": {
          "base_uri": "https://localhost:8080/"
        },
        "id": "WqLiN0JNXsdT",
        "outputId": "dfc3c1a5-9567-49e9-f0e4-2ca81a5da54e"
      },
      "execution_count": null,
      "outputs": [
        {
          "output_type": "stream",
          "name": "stdout",
          "text": [
            "Size of df_rap: 699566\n",
            "Size of df_pop: 1400231\n",
            "                                               lyric  class\n",
            "0  \\nKilla Cam, Killa Cam, Cam\\nKilla Cam, Killa ...      0\n",
            "1  Maybe cause I'm eatin\\nAnd these bastards fien...      0\n",
            "2  \\nSo they ask me\\n\"Young boy\\nWhat you gon' do...      0\n",
            "3  \\nNo, no, no!\\nI told you, I lived this shit\\n...      0\n",
            "4  \\nAy yo you wonder who I are\\nI guzzle up at t...      0\n",
            "                                                 lyric  class\n",
            "212  \\nIn December, drinking horchata\\nI'd look psy...      1\n",
            "304  \\nFlashing lights \\nFlashing lights \\nFlashing...      1\n",
            "316  \\n\\n\\nOh, woah\\nOh, woah\\nOh, woah\\n\\n\\nYou kn...      1\n",
            "426  \\nI feel like I wanna smack somebody\\nTurn aro...      1\n",
            "441  \\nI see you drivin' 'round town with the girl ...      1\n"
          ]
        }
      ]
    },
    {
      "cell_type": "code",
      "source": [
        "def add_genre_tags(row):\n",
        "    if row['class'] == 1:\n",
        "        return '[Genre: Pop] ' + row['lyric']\n",
        "    elif row['class'] == 0:\n",
        "        return '[Genre: Rap] ' + row['lyric']\n",
        "    # else:\n",
        "    #     return row['lyric']"
      ],
      "metadata": {
        "id": "ue9lhEt1chs-"
      },
      "execution_count": null,
      "outputs": []
    },
    {
      "cell_type": "code",
      "source": [
        "# apply the function to each row\n",
        "df['lyric'] = df.apply(add_genre_tags, axis=1)\n",
        "print(df.head())"
      ],
      "metadata": {
        "colab": {
          "base_uri": "https://localhost:8080/"
        },
        "id": "O42qaoZGcqg4",
        "outputId": "9f558601-2405-4d59-df56-5b204a777672"
      },
      "execution_count": null,
      "outputs": [
        {
          "output_type": "stream",
          "name": "stdout",
          "text": [
            "                                               lyric  class\n",
            "0  [Genre: Rap] \\nKilla Cam, Killa Cam, Cam\\nKill...      0\n",
            "1  [Genre: Rap] Maybe cause I'm eatin\\nAnd these ...      0\n",
            "2  [Genre: Rap] \\nSo they ask me\\n\"Young boy\\nWha...      0\n",
            "3  [Genre: Rap] \\nNo, no, no!\\nI told you, I live...      0\n",
            "4  [Genre: Rap] \\nAy yo you wonder who I are\\nI g...      0\n"
          ]
        }
      ]
    },
    {
      "cell_type": "markdown",
      "source": [
        "Save dataset after cleaning:"
      ],
      "metadata": {
        "id": "X-TKI1VTvAkc"
      }
    },
    {
      "cell_type": "code",
      "source": [
        "file_path = '/content/drive/MyDrive/Deep_Learning_project/ds_clean.csv'\n",
        "df.to_csv(file_path, index=False)"
      ],
      "metadata": {
        "id": "OI9nyZRNanng"
      },
      "execution_count": null,
      "outputs": []
    }
  ]
}